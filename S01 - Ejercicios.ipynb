{
 "cells": [
  {
   "cell_type": "markdown",
   "metadata": {},
   "source": [
    "# Ejercicios del Seminario 1 (Introducción a Python)\n",
    "\n",
    "En este notebook se pide realizar un par de ejercicios sencillos para ir practicando Python."
   ]
  },
  {
   "cell_type": "markdown",
   "metadata": {},
   "source": [
    "## Ejercicio 1\n",
    "\n",
    "\n",
    "Escriba una función _califica_ que reciba un vector con los valores de los\n",
    "estudiantes, y devuelva \"MH\" si la nota se encuentra en 10, \"SOB\" si la nota media\n",
    "se encuentra entre 9 y 10, \"NOT\" si se encuentra entre 7 y 9, \"BIEN\" si se encuentra\n",
    "entre 6 y 7, \"APRO\" si tiene entre 5 y 6, y \"SUS\" si es menor que cinco.\n"
   ]
  },
  {
   "cell_type": "code",
   "execution_count": 1,
   "metadata": {
    "tags": []
   },
   "outputs": [
    {
     "output_type": "stream",
     "name": "stdout",
     "text": "[&#39;SUS&#39;, &#39;APRO&#39;, &#39;NOT&#39;, &#39;MH&#39;, &#39;SOB&#39;, &#39;SUS&#39;]\n"
    }
   ],
   "source": [
    "\n",
    "def califica(vector):\n",
    "    result = []\n",
    "    cad = \"\"\n",
    "    \n",
    "    for valor in vector:\n",
    "        if valor == 10:\n",
    "            cad = \"MH\"\n",
    "        elif valor >= 9 and valor < 10:\n",
    "            cad = \"SOB\"\n",
    "        elif valor >= 7 and valor < 9:\n",
    "            cad=\"NOT\"\n",
    "        elif valor >= 6 and valor < 7:\n",
    "            cad=\"BIEN\"\n",
    "        elif valor >= 5 and valor < 6:\n",
    "            cad=\"APRO\"\n",
    "        elif valor < 5:\n",
    "            cad=\"SUS\"\n",
    "        result.append(cad)\n",
    "    \n",
    "    return result\n",
    "\n",
    "def main():\n",
    "    result = califica([2.3, 5.6, 8, 10, 9, 4.2])\n",
    "    print(result)\n",
    "    assert result == [\"SUS\", \"APRO\", \"NOT\", \"MH\",  \"SOB\", \"SUS\"]\n",
    "    \n",
    "main()"
   ]
  },
  {
   "cell_type": "markdown",
   "metadata": {},
   "source": [
    "## Ejercicio 2\n",
    "\n",
    "Escribir las funciones _potencia_ y _factorial_."
   ]
  },
  {
   "cell_type": "code",
   "execution_count": 2,
   "metadata": {},
   "outputs": [],
   "source": [
    "def potencia(a, b):\n",
    "    result = 1\n",
    "    for i in range(b):\n",
    "        result = result*a\n",
    "    return result\n",
    "\n",
    "def factorial(n):\n",
    "    result = 1    \n",
    "    for i in range(n):\n",
    "        result = result*(i+1)\n",
    "    return result\n",
    "\n",
    "def test_potencia():\n",
    "    assert potencia(2, 2)==4\n",
    "    assert potencia(2, 3)==8\n",
    "    assert potencia(2, 1)==2\n",
    "    assert potencia(1, 10)==1\n",
    "    \n",
    "def test_factorial():\n",
    "    assert factorial(0) == 1\n",
    "    assert factorial(1) == 1\n",
    "    assert factorial(2) == 2\n",
    "    assert factorial(3) == 6\n",
    "    assert factorial(5) == 120\n",
    "    \n",
    "test_potencia()\n",
    "test_factorial()"
   ]
  }
 ],
 "metadata": {
  "jupytext": {
   "encoding": "# -*- coding: utf-8 -*-",
   "formats": "ipynb,py"
  },
  "kernelspec": {
   "display_name": "Python 3",
   "language": "python",
   "name": "python3"
  },
  "language_info": {
   "codemirror_mode": {
    "name": "ipython",
    "version": 3
   },
   "file_extension": ".py",
   "mimetype": "text/x-python",
   "name": "python",
   "nbconvert_exporter": "python",
   "pygments_lexer": "ipython3",
   "version": "3.7.6-final"
  }
 },
 "nbformat": 4,
 "nbformat_minor": 2
}