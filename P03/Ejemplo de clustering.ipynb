{
 "cells": [
  {
   "cell_type": "markdown",
   "metadata": {},
   "source": [
    "# Ejemplo de Clustering"
   ]
  },
  {
   "cell_type": "markdown",
   "metadata": {},
   "source": [
    "Este notebook es un ejemplo de uso de clustering usando una serie de funciones utilidades que se han definido para la práctica 2."
   ]
  },
  {
   "cell_type": "markdown",
   "metadata": {
    "ExecuteTime": {
     "end_time": "2020-11-15T16:27:07.886880Z",
     "start_time": "2020-11-15T16:27:07.883738Z"
    }
   },
   "source": [
    "## Carga del fichero"
   ]
  },
  {
   "cell_type": "markdown",
   "metadata": {},
   "source": [
    "En este caso voy a clasificar datos distintos al problema."
   ]
  },
  {
   "cell_type": "code",
   "execution_count": null,
   "metadata": {
    "ExecuteTime": {
     "end_time": "2020-11-18T10:13:26.444765Z",
     "start_time": "2020-11-18T10:13:25.321800Z"
    }
   },
   "outputs": [],
   "source": [
    "import seaborn as sns"
   ]
  },
  {
   "cell_type": "code",
   "execution_count": null,
   "metadata": {
    "ExecuteTime": {
     "end_time": "2020-11-18T10:13:26.462510Z",
     "start_time": "2020-11-18T10:13:26.447245Z"
    }
   },
   "outputs": [],
   "source": [
    "df_all = sns.load_dataset('penguins')"
   ]
  },
  {
   "cell_type": "code",
   "execution_count": null,
   "metadata": {
    "ExecuteTime": {
     "end_time": "2020-11-18T10:13:26.495740Z",
     "start_time": "2020-11-18T10:13:26.464952Z"
    }
   },
   "outputs": [],
   "source": [
    "df_all.head()"
   ]
  },
  {
   "cell_type": "markdown",
   "metadata": {
    "ExecuteTime": {
     "end_time": "2020-11-15T16:40:32.620246Z",
     "start_time": "2020-11-15T16:40:32.613178Z"
    }
   },
   "source": [
    "## Filtro de nuestro caso de uso"
   ]
  },
  {
   "cell_type": "markdown",
   "metadata": {},
   "source": [
    "En nuestro caso aplicamos el caso de uso de una determinada isla. Vosotros/as para el datasets tendréis que usar un par de datasets, fijando los atributos deseados. "
   ]
  },
  {
   "cell_type": "code",
   "execution_count": null,
   "metadata": {
    "ExecuteTime": {
     "end_time": "2020-11-18T10:13:26.516936Z",
     "start_time": "2020-11-18T10:13:26.498515Z"
    }
   },
   "outputs": [],
   "source": [
    "df_all.island.unique()"
   ]
  },
  {
   "cell_type": "code",
   "execution_count": null,
   "metadata": {
    "ExecuteTime": {
     "end_time": "2020-11-18T10:13:26.546408Z",
     "start_time": "2020-11-18T10:13:26.520071Z"
    }
   },
   "outputs": [],
   "source": [
    "df = df_all[df_all.island == 'Dream']\n",
    "df = df[df.sex == 'Female']"
   ]
  },
  {
   "cell_type": "markdown",
   "metadata": {},
   "source": [
    "Voy a aplicar clustering. Para ello voy a utilizar únicamente los valores numéricos."
   ]
  },
  {
   "cell_type": "code",
   "execution_count": null,
   "metadata": {
    "ExecuteTime": {
     "end_time": "2020-11-18T10:13:26.573259Z",
     "start_time": "2020-11-18T10:13:26.548590Z"
    }
   },
   "outputs": [],
   "source": [
    "atributos = ['bill_length_mm', 'bill_depth_mm', 'flipper_length_mm', 'body_mass_g']"
   ]
  },
  {
   "cell_type": "markdown",
   "metadata": {},
   "source": [
    "Cargo las funciones de utilidad"
   ]
  },
  {
   "cell_type": "code",
   "execution_count": null,
   "metadata": {
    "ExecuteTime": {
     "end_time": "2020-11-18T10:13:26.865103Z",
     "start_time": "2020-11-18T10:13:26.578519Z"
    }
   },
   "outputs": [],
   "source": [
    "from pract2_utils import *"
   ]
  },
  {
   "cell_type": "code",
   "execution_count": null,
   "metadata": {
    "ExecuteTime": {
     "end_time": "2020-11-18T10:13:26.899158Z",
     "start_time": "2020-11-18T10:13:26.867223Z"
    }
   },
   "outputs": [],
   "source": [
    "df"
   ]
  },
  {
   "cell_type": "markdown",
   "metadata": {},
   "source": [
    "Esta función nos permite convertir los atributos deseados en una matrix."
   ]
  },
  {
   "cell_type": "code",
   "execution_count": null,
   "metadata": {
    "ExecuteTime": {
     "end_time": "2020-11-18T10:13:26.929352Z",
     "start_time": "2020-11-18T10:13:26.901604Z"
    }
   },
   "outputs": [],
   "source": [
    "data = to_matrix(df, atributos)"
   ]
  },
  {
   "cell_type": "markdown",
   "metadata": {},
   "source": [
    "Vamos a ver las primeras filas"
   ]
  },
  {
   "cell_type": "code",
   "execution_count": null,
   "metadata": {
    "ExecuteTime": {
     "end_time": "2020-11-18T10:13:26.950669Z",
     "start_time": "2020-11-18T10:13:26.931160Z"
    }
   },
   "outputs": [],
   "source": [
    "data[:5]"
   ]
  },
  {
   "cell_type": "markdown",
   "metadata": {},
   "source": [
    "## Normalizar los datos"
   ]
  },
  {
   "cell_type": "markdown",
   "metadata": {},
   "source": [
    "Para aplicar los métodos de clustering es normal normalizar los datos, vamos a usar nuestra propia función (para luego poder desnormalizar en la gráfica)."
   ]
  },
  {
   "cell_type": "code",
   "execution_count": null,
   "metadata": {
    "ExecuteTime": {
     "end_time": "2020-11-18T10:13:26.971984Z",
     "start_time": "2020-11-18T10:13:26.952842Z"
    }
   },
   "outputs": [],
   "source": [
    "data_norm = norm(data)"
   ]
  },
  {
   "cell_type": "code",
   "execution_count": null,
   "metadata": {
    "ExecuteTime": {
     "end_time": "2020-11-18T10:13:26.996545Z",
     "start_time": "2020-11-18T10:13:26.975054Z"
    }
   },
   "outputs": [],
   "source": [
    "data[:5]"
   ]
  },
  {
   "cell_type": "code",
   "execution_count": null,
   "metadata": {
    "ExecuteTime": {
     "end_time": "2020-11-18T10:13:27.018182Z",
     "start_time": "2020-11-18T10:13:26.998845Z"
    }
   },
   "outputs": [],
   "source": [
    "data_norm[:5]"
   ]
  },
  {
   "cell_type": "code",
   "execution_count": null,
   "metadata": {
    "ExecuteTime": {
     "end_time": "2020-11-18T10:13:27.048382Z",
     "start_time": "2020-11-18T10:13:27.021967Z"
    }
   },
   "outputs": [],
   "source": [
    "data_norm"
   ]
  },
  {
   "cell_type": "markdown",
   "metadata": {
    "ExecuteTime": {
     "end_time": "2020-11-15T16:38:27.875085Z",
     "start_time": "2020-11-15T16:38:27.866485Z"
    }
   },
   "source": [
    "## Aplico el k-means"
   ]
  },
  {
   "cell_type": "markdown",
   "metadata": {},
   "source": [
    "Voy a aplicar un único k-means, vosotros tendríais que aplicar un estudio de parámetros, y además otro algoritmo más."
   ]
  },
  {
   "cell_type": "code",
   "execution_count": null,
   "metadata": {
    "ExecuteTime": {
     "end_time": "2020-11-18T10:13:27.246192Z",
     "start_time": "2020-11-18T10:13:27.050740Z"
    }
   },
   "outputs": [],
   "source": [
    "from sklearn.cluster import KMeans"
   ]
  },
  {
   "cell_type": "code",
   "execution_count": null,
   "metadata": {
    "ExecuteTime": {
     "end_time": "2020-11-18T10:13:27.308855Z",
     "start_time": "2020-11-18T10:13:27.248383Z"
    }
   },
   "outputs": [],
   "source": [
    "results = KMeans(n_clusters=3, random_state=0).fit(data_norm)"
   ]
  },
  {
   "cell_type": "code",
   "execution_count": null,
   "metadata": {
    "ExecuteTime": {
     "end_time": "2020-11-18T10:13:27.320596Z",
     "start_time": "2020-11-18T10:13:27.314813Z"
    }
   },
   "outputs": [],
   "source": [
    "results.labels_"
   ]
  },
  {
   "cell_type": "markdown",
   "metadata": {},
   "source": [
    "En los atributos labels_ tengo en un vector las etiquetas de cada fila, y "
   ]
  },
  {
   "cell_type": "code",
   "execution_count": null,
   "metadata": {
    "ExecuteTime": {
     "end_time": "2020-11-18T10:13:27.339287Z",
     "start_time": "2020-11-18T10:13:27.324011Z"
    }
   },
   "outputs": [],
   "source": [
    "labels = results.labels_"
   ]
  },
  {
   "cell_type": "code",
   "execution_count": null,
   "metadata": {
    "ExecuteTime": {
     "end_time": "2020-11-18T10:16:46.682585Z",
     "start_time": "2020-11-18T10:16:46.676843Z"
    }
   },
   "outputs": [],
   "source": [
    "centroids = results.cluster_centers_"
   ]
  },
  {
   "cell_type": "markdown",
   "metadata": {},
   "source": [
    "## Obtengo la medida"
   ]
  },
  {
   "cell_type": "code",
   "execution_count": null,
   "metadata": {
    "ExecuteTime": {
     "end_time": "2020-11-18T10:13:27.393074Z",
     "start_time": "2020-11-18T10:13:27.367959Z"
    }
   },
   "outputs": [],
   "source": [
    "silhouette, calinski = measures_silhoutte_calinski(data_norm, labels)\n",
    "\n",
    "print(\"silhouette: {:3f}\".format(silhouette))\n",
    "print(\"calinsky: {:3f}\".format(calinski))"
   ]
  },
  {
   "cell_type": "markdown",
   "metadata": {},
   "source": [
    "## Visualizo los centroides"
   ]
  },
  {
   "cell_type": "code",
   "execution_count": null,
   "metadata": {
    "ExecuteTime": {
     "end_time": "2020-11-18T10:13:27.932552Z",
     "start_time": "2020-11-18T10:13:27.396809Z"
    }
   },
   "outputs": [],
   "source": [
    "visualize_centroids(centroids, data, atributos)"
   ]
  },
  {
   "cell_type": "code",
   "execution_count": null,
   "metadata": {
    "ExecuteTime": {
     "end_time": "2020-11-18T10:13:33.531907Z",
     "start_time": "2020-11-18T10:13:27.939753Z"
    }
   },
   "outputs": [],
   "source": [
    "pairplot(df, atributos, labels)"
   ]
  },
  {
   "cell_type": "markdown",
   "metadata": {
    "ExecuteTime": {
     "end_time": "2020-11-18T10:19:42.186008Z",
     "start_time": "2020-11-18T10:19:42.180258Z"
    }
   },
   "source": [
    "## Viendo el balanceo de los distintos clustering"
   ]
  },
  {
   "cell_type": "markdown",
   "metadata": {},
   "source": [
    "Vamos a ver cómo se distribuyen"
   ]
  },
  {
   "cell_type": "code",
   "execution_count": null,
   "metadata": {
    "ExecuteTime": {
     "end_time": "2020-11-18T10:18:13.470226Z",
     "start_time": "2020-11-18T10:18:13.464535Z"
    }
   },
   "outputs": [],
   "source": [
    "from collections import Counter"
   ]
  },
  {
   "cell_type": "code",
   "execution_count": null,
   "metadata": {
    "ExecuteTime": {
     "end_time": "2020-11-18T10:18:27.736554Z",
     "start_time": "2020-11-18T10:18:27.729499Z"
    }
   },
   "outputs": [],
   "source": [
    "Counter(labels)"
   ]
  },
  {
   "cell_type": "markdown",
   "metadata": {
    "ExecuteTime": {
     "end_time": "2020-11-18T10:18:52.487996Z",
     "start_time": "2020-11-18T10:18:52.479608Z"
    }
   },
   "source": [
    "De un cluster hay bastante más que de los otros dos, que están mucho más parejos."
   ]
  },
  {
   "cell_type": "markdown",
   "metadata": {},
   "source": [
    "# Calculo de Centroides _a mano_"
   ]
  },
  {
   "cell_type": "markdown",
   "metadata": {},
   "source": [
    "¿Y si no tuviese los centroides?"
   ]
  },
  {
   "cell_type": "markdown",
   "metadata": {},
   "source": [
    "Vamos a calcularlos a mano."
   ]
  },
  {
   "cell_type": "markdown",
   "metadata": {},
   "source": [
    "Primeros creamos un dataframe a partir de los datos normalizados"
   ]
  },
  {
   "cell_type": "code",
   "execution_count": null,
   "metadata": {
    "ExecuteTime": {
     "end_time": "2020-11-18T10:13:33.543880Z",
     "start_time": "2020-11-18T10:13:33.537428Z"
    }
   },
   "outputs": [],
   "source": [
    "df_data = pd.DataFrame(data_norm)"
   ]
  },
  {
   "cell_type": "markdown",
   "metadata": {},
   "source": [
    "Ahora le asignamos sus nombres de atributos "
   ]
  },
  {
   "cell_type": "code",
   "execution_count": null,
   "metadata": {
    "ExecuteTime": {
     "end_time": "2020-11-18T10:13:33.591120Z",
     "start_time": "2020-11-18T10:13:33.545805Z"
    }
   },
   "outputs": [],
   "source": [
    "df_data.columns = atributos"
   ]
  },
  {
   "cell_type": "code",
   "execution_count": null,
   "metadata": {
    "ExecuteTime": {
     "end_time": "2020-11-18T10:13:33.626388Z",
     "start_time": "2020-11-18T10:13:33.592967Z"
    }
   },
   "outputs": [],
   "source": [
    "df_data.head()"
   ]
  },
  {
   "cell_type": "markdown",
   "metadata": {},
   "source": [
    "Le añadimos el cluster como otro atributo"
   ]
  },
  {
   "cell_type": "code",
   "execution_count": null,
   "metadata": {
    "ExecuteTime": {
     "end_time": "2020-11-18T10:13:33.646986Z",
     "start_time": "2020-11-18T10:13:33.628091Z"
    }
   },
   "outputs": [],
   "source": [
    "df_data['cluster'] = labels"
   ]
  },
  {
   "cell_type": "code",
   "execution_count": null,
   "metadata": {
    "ExecuteTime": {
     "end_time": "2020-11-18T10:13:33.680358Z",
     "start_time": "2020-11-18T10:13:33.649249Z"
    }
   },
   "outputs": [],
   "source": [
    "df_data.head()"
   ]
  },
  {
   "cell_type": "code",
   "execution_count": null,
   "metadata": {
    "ExecuteTime": {
     "end_time": "2020-11-18T10:13:33.707220Z",
     "start_time": "2020-11-18T10:13:33.683164Z"
    }
   },
   "outputs": [],
   "source": [
    "df_centroides = df_data.groupby('cluster').mean()"
   ]
  },
  {
   "cell_type": "code",
   "execution_count": null,
   "metadata": {
    "ExecuteTime": {
     "end_time": "2020-11-18T10:13:33.742535Z",
     "start_time": "2020-11-18T10:13:33.709900Z"
    }
   },
   "outputs": [],
   "source": [
    "df_centroides"
   ]
  },
  {
   "cell_type": "code",
   "execution_count": null,
   "metadata": {
    "ExecuteTime": {
     "end_time": "2020-11-18T10:13:33.770772Z",
     "start_time": "2020-11-18T10:13:33.745632Z"
    }
   },
   "outputs": [],
   "source": [
    "centroids"
   ]
  },
  {
   "cell_type": "markdown",
   "metadata": {
    "ExecuteTime": {
     "end_time": "2020-11-18T09:40:27.698422Z",
     "start_time": "2020-11-18T09:40:27.690188Z"
    }
   },
   "source": [
    "Si los queremos de igual forma podemos hacer:"
   ]
  },
  {
   "cell_type": "code",
   "execution_count": null,
   "metadata": {
    "ExecuteTime": {
     "end_time": "2020-11-18T10:14:30.813575Z",
     "start_time": "2020-11-18T10:14:30.804535Z"
    }
   },
   "outputs": [],
   "source": [
    "centroides = df_centroides.values"
   ]
  },
  {
   "cell_type": "code",
   "execution_count": null,
   "metadata": {
    "ExecuteTime": {
     "end_time": "2020-11-18T10:14:32.244197Z",
     "start_time": "2020-11-18T10:14:32.233465Z"
    }
   },
   "outputs": [],
   "source": [
    "centroides"
   ]
  },
  {
   "cell_type": "code",
   "execution_count": null,
   "metadata": {
    "ExecuteTime": {
     "end_time": "2020-11-18T10:14:36.008256Z",
     "start_time": "2020-11-18T10:14:36.002358Z"
    }
   },
   "outputs": [],
   "source": [
    "import numpy as np"
   ]
  },
  {
   "cell_type": "markdown",
   "metadata": {},
   "source": [
    "Vemos que son equivalentes (son números reales, por eso comparamos que la diferencia sea pequeña en vez de comparar con igualdad)"
   ]
  },
  {
   "cell_type": "code",
   "execution_count": null,
   "metadata": {
    "ExecuteTime": {
     "end_time": "2020-11-18T10:20:06.386596Z",
     "start_time": "2020-11-18T10:20:06.377201Z"
    }
   },
   "outputs": [],
   "source": [
    "np.all(np.abs(centroids-centroides) < 1e-15)"
   ]
  }
 ],
 "metadata": {
  "@webio": {
   "lastCommId": null,
   "lastKernelId": null
  },
  "jupytext": {
   "formats": "ipynb,md"
  },
  "kernelspec": {
   "display_name": "Python 3",
   "language": "python",
   "name": "python3"
  },
  "language_info": {
   "codemirror_mode": {
    "name": "ipython",
    "version": 3
   },
   "file_extension": ".py",
   "mimetype": "text/x-python",
   "name": "python",
   "nbconvert_exporter": "python",
   "pygments_lexer": "ipython3",
   "version": "3.6.7"
  },
  "toc": {
   "base_numbering": 1,
   "nav_menu": {},
   "number_sections": true,
   "sideBar": true,
   "skip_h1_title": false,
   "title_cell": "Table of Contents",
   "title_sidebar": "Contents",
   "toc_cell": false,
   "toc_position": {},
   "toc_section_display": true,
   "toc_window_display": false
  },
  "varInspector": {
   "cols": {
    "lenName": 16,
    "lenType": 16,
    "lenVar": 40
   },
   "kernels_config": {
    "python": {
     "delete_cmd_postfix": "",
     "delete_cmd_prefix": "del ",
     "library": "var_list.py",
     "varRefreshCmd": "print(var_dic_list())"
    },
    "r": {
     "delete_cmd_postfix": ") ",
     "delete_cmd_prefix": "rm(",
     "library": "var_list.r",
     "varRefreshCmd": "cat(var_dic_list()) "
    }
   },
   "types_to_exclude": [
    "module",
    "function",
    "builtin_function_or_method",
    "instance",
    "_Feature"
   ],
   "window_display": false
  }
 },
 "nbformat": 4,
 "nbformat_minor": 4
}
