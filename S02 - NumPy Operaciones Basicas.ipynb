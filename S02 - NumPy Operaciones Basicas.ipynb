{
 "cells": [
  {
   "cell_type": "markdown",
   "metadata": {},
   "source": [
    "# Introducción a Numpy y algunas operaciones básicas"
   ]
  },
  {
   "cell_type": "markdown",
   "metadata": {},
   "source": [
    "<img src=\"https://upload.wikimedia.org/wikipedia/commons/1/1a/NumPy_logo.svg\" width=\"30%\">"
   ]
  },
  {
   "cell_type": "markdown",
   "metadata": {},
   "source": [
    "Numpy es una biblioteca para el lenguaje de programación Python que da soporte para crear matrices multidimensionales, junto con una gran colección de funciones de alto nivel para operar con ellas."
   ]
  },
  {
   "cell_type": "markdown",
   "metadata": {},
   "source": [
    "Su uso es muy sencillo, lo primero es convertir un vector o lista a un array numpy"
   ]
  },
  {
   "cell_type": "code",
   "execution_count": 1,
   "metadata": {
    "ExecuteTime": {
     "end_time": "2020-10-06T08:24:56.174018Z",
     "start_time": "2020-10-06T08:24:56.170020Z"
    }
   },
   "outputs": [],
   "source": [
    "import numpy as np"
   ]
  },
  {
   "cell_type": "markdown",
   "metadata": {},
   "source": [
    "Crear un array 1-d"
   ]
  },
  {
   "cell_type": "code",
   "execution_count": 2,
   "metadata": {
    "ExecuteTime": {
     "end_time": "2020-10-06T08:24:56.229314Z",
     "start_time": "2020-10-06T08:24:56.180491Z"
    }
   },
   "outputs": [
    {
     "output_type": "execute_result",
     "data": {
      "text/plain": "array([1, 2, 3, 4, 5])"
     },
     "metadata": {},
     "execution_count": 2
    }
   ],
   "source": [
    "V = np.array([1,2,3,4,5])\n",
    "V"
   ]
  },
  {
   "cell_type": "markdown",
   "metadata": {},
   "source": [
    "Se puede acceder elemento a elemento igual que a una lista"
   ]
  },
  {
   "cell_type": "code",
   "execution_count": 3,
   "metadata": {
    "ExecuteTime": {
     "end_time": "2020-10-06T08:24:56.247915Z",
     "start_time": "2020-10-06T08:24:56.232301Z"
    }
   },
   "outputs": [
    {
     "output_type": "execute_result",
     "data": {
      "text/plain": "4"
     },
     "metadata": {},
     "execution_count": 3
    }
   ],
   "source": [
    "V[3]"
   ]
  },
  {
   "cell_type": "markdown",
   "metadata": {
    "ExecuteTime": {
     "end_time": "2020-10-06T08:21:42.381010Z",
     "start_time": "2020-10-06T08:21:42.366053Z"
    }
   },
   "source": [
    "Incluso a varios valores a la vez"
   ]
  },
  {
   "cell_type": "code",
   "execution_count": 4,
   "metadata": {
    "ExecuteTime": {
     "end_time": "2020-10-06T08:24:56.265166Z",
     "start_time": "2020-10-06T08:24:56.251137Z"
    }
   },
   "outputs": [
    {
     "output_type": "execute_result",
     "data": {
      "text/plain": "array([2, 4, 5])"
     },
     "metadata": {},
     "execution_count": 4
    }
   ],
   "source": [
    "V[[1, 3, 4]]"
   ]
  },
  {
   "cell_type": "markdown",
   "metadata": {},
   "source": [
    "Crear un array 1-d a partir de una lista de Python"
   ]
  },
  {
   "cell_type": "code",
   "execution_count": 5,
   "metadata": {
    "ExecuteTime": {
     "end_time": "2020-10-06T08:24:56.282207Z",
     "start_time": "2020-10-06T08:24:56.268195Z"
    }
   },
   "outputs": [
    {
     "output_type": "execute_result",
     "data": {
      "text/plain": "array([1, 2, 3, 4, 5, 6])"
     },
     "metadata": {},
     "execution_count": 5
    }
   ],
   "source": [
    "L = [1, 2, 3, 4, 5, 6]\n",
    "\n",
    "V = np.array(L)\n",
    "V"
   ]
  },
  {
   "cell_type": "markdown",
   "metadata": {},
   "source": [
    "# Tipos de vector"
   ]
  },
  {
   "cell_type": "markdown",
   "metadata": {},
   "source": [
    "A diferencia de las listas, un vector o matriz Numpy sólo tener valores del mismo tipo."
   ]
  },
  {
   "cell_type": "code",
   "execution_count": 6,
   "metadata": {
    "ExecuteTime": {
     "end_time": "2020-10-06T08:24:56.299612Z",
     "start_time": "2020-10-06T08:24:56.283949Z"
    }
   },
   "outputs": [
    {
     "output_type": "execute_result",
     "data": {
      "text/plain": "array([&#39;1&#39;, &#39;2&#39;, &#39;hola&#39;], dtype=&#39;&lt;U21&#39;)"
     },
     "metadata": {},
     "execution_count": 6
    }
   ],
   "source": [
    "np.array([1, 2, \"hola\"])"
   ]
  },
  {
   "cell_type": "markdown",
   "metadata": {},
   "source": [
    "Normalmente de tipo numérico"
   ]
  },
  {
   "cell_type": "code",
   "execution_count": 7,
   "metadata": {
    "ExecuteTime": {
     "end_time": "2020-10-06T08:24:56.321282Z",
     "start_time": "2020-10-06T08:24:56.301620Z"
    }
   },
   "outputs": [
    {
     "output_type": "execute_result",
     "data": {
      "text/plain": "array([1. , 2. , 3.5])"
     },
     "metadata": {},
     "execution_count": 7
    }
   ],
   "source": [
    "np.array([1, 2, 3.5])"
   ]
  },
  {
   "cell_type": "markdown",
   "metadata": {},
   "source": [
    "Se puede indicar el tipo al construirlo, con dtype {np.int, np.float32, np.float64})"
   ]
  },
  {
   "cell_type": "code",
   "execution_count": 8,
   "metadata": {
    "ExecuteTime": {
     "end_time": "2020-10-06T08:24:56.339009Z",
     "start_time": "2020-10-06T08:24:56.323966Z"
    }
   },
   "outputs": [
    {
     "output_type": "execute_result",
     "data": {
      "text/plain": "array([1., 2., 3., 4., 5., 6.], dtype=float32)"
     },
     "metadata": {},
     "execution_count": 8
    }
   ],
   "source": [
    "A=np.array(L, dtype=np.float32)\n",
    "A"
   ]
  },
  {
   "cell_type": "markdown",
   "metadata": {},
   "source": [
    "# Ventaja de vector de tipo numpy"
   ]
  },
  {
   "cell_type": "markdown",
   "metadata": {},
   "source": [
    "La principal ventaja es el tiempo, las operaciones en listas son muy lentas, y Numpy están implementadas eficientemente en C++. "
   ]
  },
  {
   "cell_type": "code",
   "execution_count": 9,
   "metadata": {
    "ExecuteTime": {
     "end_time": "2020-10-06T08:24:56.354811Z",
     "start_time": "2020-10-06T08:24:56.341858Z"
    }
   },
   "outputs": [],
   "source": [
    "def norm1(vector):\n",
    "    if len(vector)==0:\n",
    "        return []\n",
    "    \n",
    "    maxv = minv = vector[1]\n",
    "    \n",
    "    for val in vector:\n",
    "        if val > maxv:\n",
    "            maxv = val\n",
    "        elif val < minv:\n",
    "            minv = val\n",
    "    \n",
    "    norm = len(vector)*[None]\n",
    "    \n",
    "    for i, val in enumerate(vector):\n",
    "        norm[i] = (val-minv)/(maxv-minv)\n",
    "        \n",
    "    return norm    "
   ]
  },
  {
   "cell_type": "code",
   "execution_count": 10,
   "metadata": {
    "ExecuteTime": {
     "end_time": "2020-10-06T08:24:56.414170Z",
     "start_time": "2020-10-06T08:24:56.357158Z"
    }
   },
   "outputs": [],
   "source": [
    "# Creo un vector aleatorio\n",
    "v = np.random.rand(1_000_000)\n",
    "v_list = v.tolist()"
   ]
  },
  {
   "cell_type": "code",
   "execution_count": 11,
   "metadata": {
    "ExecuteTime": {
     "end_time": "2020-10-06T08:24:57.743479Z",
     "start_time": "2020-10-06T08:24:56.416134Z"
    },
    "tags": []
   },
   "outputs": [
    {
     "output_type": "stream",
     "name": "stdout",
     "text": "CPU times: user 766 ms, sys: 125 ms, total: 891 ms\nWall time: 907 ms\n"
    }
   ],
   "source": [
    "%time sal1=norm1(v)"
   ]
  },
  {
   "cell_type": "markdown",
   "metadata": {},
   "source": [
    "Lo implementamos ahora con numpy"
   ]
  },
  {
   "cell_type": "code",
   "execution_count": 12,
   "metadata": {
    "ExecuteTime": {
     "end_time": "2020-10-06T08:24:57.749816Z",
     "start_time": "2020-10-06T08:24:57.745707Z"
    }
   },
   "outputs": [],
   "source": [
    "def norm2(vector):\n",
    "    minv = vector.min()\n",
    "    maxv = vector.max()\n",
    "    return (vector-minv)/(maxv-minv)"
   ]
  },
  {
   "cell_type": "code",
   "execution_count": 13,
   "metadata": {
    "ExecuteTime": {
     "end_time": "2020-10-06T08:24:57.775511Z",
     "start_time": "2020-10-06T08:24:57.751679Z"
    },
    "tags": []
   },
   "outputs": [
    {
     "output_type": "stream",
     "name": "stdout",
     "text": "CPU times: user 15.6 ms, sys: 31.2 ms, total: 46.9 ms\nWall time: 48.4 ms\n"
    }
   ],
   "source": [
    "%time sal2=norm2(v)"
   ]
  },
  {
   "cell_type": "code",
   "execution_count": 14,
   "metadata": {
    "ExecuteTime": {
     "end_time": "2020-10-06T08:24:57.961206Z",
     "start_time": "2020-10-06T08:24:57.777504Z"
    }
   },
   "outputs": [],
   "source": [
    "assert np.all(sal1 == sal2)"
   ]
  },
  {
   "cell_type": "markdown",
   "metadata": {},
   "source": [
    "# Operaciones vectoriales"
   ]
  },
  {
   "cell_type": "markdown",
   "metadata": {},
   "source": [
    "Se puede sumar, restar, dividir, ... un vector por un escalar, y hace la operación elemento a elemento."
   ]
  },
  {
   "cell_type": "code",
   "execution_count": 15,
   "metadata": {
    "ExecuteTime": {
     "end_time": "2020-10-06T08:24:57.993386Z",
     "start_time": "2020-10-06T08:24:57.962734Z"
    }
   },
   "outputs": [
    {
     "output_type": "execute_result",
     "data": {
      "text/plain": "array([0.2, 0.4, 0.6, 0.8, 1. , 1.2], dtype=float32)"
     },
     "metadata": {},
     "execution_count": 15
    }
   ],
   "source": [
    "A/5"
   ]
  },
  {
   "cell_type": "code",
   "execution_count": 16,
   "metadata": {
    "ExecuteTime": {
     "end_time": "2020-10-06T08:24:58.009349Z",
     "start_time": "2020-10-06T08:24:57.995825Z"
    }
   },
   "outputs": [
    {
     "output_type": "execute_result",
     "data": {
      "text/plain": "array([0.2, 0.4, 0.6, 0.8, 1. ])"
     },
     "metadata": {},
     "execution_count": 16
    }
   ],
   "source": [
    "np.array([1.0,2,3,4,5]) / 5"
   ]
  },
  {
   "cell_type": "markdown",
   "metadata": {},
   "source": [
    "También se puede operar con vectores de igual tamaño, y hace la operación elemento a elemento"
   ]
  },
  {
   "cell_type": "code",
   "execution_count": 17,
   "metadata": {
    "ExecuteTime": {
     "end_time": "2020-10-06T08:24:58.028781Z",
     "start_time": "2020-10-06T08:24:58.011937Z"
    }
   },
   "outputs": [
    {
     "output_type": "execute_result",
     "data": {
      "text/plain": "[1, 2, 3, 4, 5, 6]"
     },
     "metadata": {},
     "execution_count": 17
    }
   ],
   "source": [
    "L"
   ]
  },
  {
   "cell_type": "code",
   "execution_count": 18,
   "metadata": {
    "ExecuteTime": {
     "end_time": "2020-10-06T08:24:58.047719Z",
     "start_time": "2020-10-06T08:24:58.031001Z"
    }
   },
   "outputs": [
    {
     "output_type": "execute_result",
     "data": {
      "text/plain": "array([ 2,  6, 12, 20, 30, 42])"
     },
     "metadata": {},
     "execution_count": 18
    }
   ],
   "source": [
    "M = np.array([2, 3, 4, 5, 6, 7])\n",
    "\n",
    "P = L * M\n",
    "P"
   ]
  },
  {
   "cell_type": "markdown",
   "metadata": {},
   "source": [
    "También posee operaciones que trabajan con todos los elementos de un vector"
   ]
  },
  {
   "cell_type": "code",
   "execution_count": 19,
   "metadata": {
    "ExecuteTime": {
     "end_time": "2020-10-06T08:24:58.064318Z",
     "start_time": "2020-10-06T08:24:58.050492Z"
    }
   },
   "outputs": [
    {
     "output_type": "execute_result",
     "data": {
      "text/plain": "112"
     },
     "metadata": {},
     "execution_count": 19
    }
   ],
   "source": [
    "P.sum()"
   ]
  },
  {
   "cell_type": "code",
   "execution_count": 20,
   "metadata": {
    "ExecuteTime": {
     "end_time": "2020-10-06T08:24:58.079880Z",
     "start_time": "2020-10-06T08:24:58.066612Z"
    }
   },
   "outputs": [],
   "source": [
    "# Desordeno\n",
    "np.random.shuffle(P)"
   ]
  },
  {
   "cell_type": "code",
   "execution_count": 21,
   "metadata": {
    "ExecuteTime": {
     "end_time": "2020-10-06T08:24:58.102049Z",
     "start_time": "2020-10-06T08:24:58.081994Z"
    }
   },
   "outputs": [
    {
     "output_type": "execute_result",
     "data": {
      "text/plain": "array([30,  6, 42, 12,  2, 20])"
     },
     "metadata": {},
     "execution_count": 21
    }
   ],
   "source": [
    "P"
   ]
  },
  {
   "cell_type": "code",
   "execution_count": 22,
   "metadata": {
    "ExecuteTime": {
     "end_time": "2020-10-06T08:24:58.118904Z",
     "start_time": "2020-10-06T08:24:58.105083Z"
    },
    "tags": []
   },
   "outputs": [
    {
     "output_type": "stream",
     "name": "stdout",
     "text": "2 42\n"
    }
   ],
   "source": [
    "print(P.min(), P.max())"
   ]
  },
  {
   "cell_type": "code",
   "execution_count": 23,
   "metadata": {
    "ExecuteTime": {
     "end_time": "2020-10-06T08:24:58.145835Z",
     "start_time": "2020-10-06T08:24:58.121711Z"
    },
    "tags": []
   },
   "outputs": [
    {
     "output_type": "stream",
     "name": "stdout",
     "text": "2 4 2\n"
    }
   ],
   "source": [
    "print(P.min(), np.argmin(P), P[np.argmin(P)])"
   ]
  },
  {
   "cell_type": "markdown",
   "metadata": {
    "ExecuteTime": {
     "end_time": "2020-10-06T08:17:27.976240Z",
     "start_time": "2020-10-06T08:17:27.965044Z"
    }
   },
   "source": [
    "También posee operaciones con vectores "
   ]
  },
  {
   "cell_type": "markdown",
   "metadata": {},
   "source": [
    "Producto escalar de dos vectores"
   ]
  },
  {
   "cell_type": "code",
   "execution_count": 24,
   "metadata": {
    "ExecuteTime": {
     "end_time": "2020-10-06T08:24:58.169093Z",
     "start_time": "2020-10-06T08:24:58.155675Z"
    }
   },
   "outputs": [
    {
     "output_type": "execute_result",
     "data": {
      "text/plain": "112"
     },
     "metadata": {},
     "execution_count": 24
    }
   ],
   "source": [
    "np.dot(L, M)"
   ]
  },
  {
   "cell_type": "markdown",
   "metadata": {},
   "source": [
    "# Crear un array 2-d"
   ]
  },
  {
   "cell_type": "code",
   "execution_count": 25,
   "metadata": {
    "ExecuteTime": {
     "end_time": "2020-10-06T08:24:58.192642Z",
     "start_time": "2020-10-06T08:24:58.174625Z"
    }
   },
   "outputs": [
    {
     "output_type": "execute_result",
     "data": {
      "text/plain": "array([[1, 2, 3],\n       [4, 5, 6],\n       [7, 8, 9],\n       [8, 7, 6]])"
     },
     "metadata": {},
     "execution_count": 25
    }
   ],
   "source": [
    "A = np.array([[1,2,3],[4,5,6],[7,8,9],[8,7,6]])\n",
    "A"
   ]
  },
  {
   "cell_type": "markdown",
   "metadata": {},
   "source": [
    "shape da el tamaño (filas, columnas)"
   ]
  },
  {
   "cell_type": "code",
   "execution_count": 26,
   "metadata": {
    "ExecuteTime": {
     "end_time": "2020-10-06T08:24:58.218695Z",
     "start_time": "2020-10-06T08:24:58.196300Z"
    }
   },
   "outputs": [
    {
     "output_type": "execute_result",
     "data": {
      "text/plain": "(4, 3)"
     },
     "metadata": {},
     "execution_count": 26
    }
   ],
   "source": [
    "A.shape"
   ]
  },
  {
   "cell_type": "code",
   "execution_count": 27,
   "metadata": {
    "ExecuteTime": {
     "end_time": "2020-10-06T08:24:58.240236Z",
     "start_time": "2020-10-06T08:24:58.221862Z"
    }
   },
   "outputs": [
    {
     "output_type": "execute_result",
     "data": {
      "text/plain": "2"
     },
     "metadata": {},
     "execution_count": 27
    }
   ],
   "source": [
    "A[0,1]"
   ]
  },
  {
   "cell_type": "code",
   "execution_count": 28,
   "metadata": {
    "ExecuteTime": {
     "end_time": "2020-10-06T08:24:58.262765Z",
     "start_time": "2020-10-06T08:24:58.242184Z"
    }
   },
   "outputs": [
    {
     "output_type": "execute_result",
     "data": {
      "text/plain": "8"
     },
     "metadata": {},
     "execution_count": 28
    }
   ],
   "source": [
    "A[2,1]"
   ]
  },
  {
   "cell_type": "markdown",
   "metadata": {},
   "source": [
    "También se puede acceder a una fila o columna concreta"
   ]
  },
  {
   "cell_type": "code",
   "execution_count": 29,
   "metadata": {
    "ExecuteTime": {
     "end_time": "2020-10-06T08:24:58.282069Z",
     "start_time": "2020-10-06T08:24:58.264730Z"
    }
   },
   "outputs": [
    {
     "output_type": "execute_result",
     "data": {
      "text/plain": "array([4, 5, 6])"
     },
     "metadata": {},
     "execution_count": 29
    }
   ],
   "source": [
    "A[1,:]"
   ]
  },
  {
   "cell_type": "code",
   "execution_count": 30,
   "metadata": {
    "ExecuteTime": {
     "end_time": "2020-10-06T08:24:58.297248Z",
     "start_time": "2020-10-06T08:24:58.285261Z"
    }
   },
   "outputs": [
    {
     "output_type": "execute_result",
     "data": {
      "text/plain": "array([2, 5, 8, 7])"
     },
     "metadata": {},
     "execution_count": 30
    }
   ],
   "source": [
    "A[:,1]"
   ]
  },
  {
   "cell_type": "markdown",
   "metadata": {
    "ExecuteTime": {
     "end_time": "2020-10-06T08:22:12.973797Z",
     "start_time": "2020-10-06T08:22:12.959720Z"
    }
   },
   "source": [
    "Se puede acceder a un subconjunto"
   ]
  },
  {
   "cell_type": "code",
   "execution_count": 31,
   "metadata": {
    "ExecuteTime": {
     "end_time": "2020-10-06T08:24:58.313496Z",
     "start_time": "2020-10-06T08:24:58.300250Z"
    }
   },
   "outputs": [
    {
     "output_type": "execute_result",
     "data": {
      "text/plain": "array([[5, 6],\n       [8, 9],\n       [7, 6]])"
     },
     "metadata": {},
     "execution_count": 31
    }
   ],
   "source": [
    "A[1:,1:]"
   ]
  },
  {
   "cell_type": "code",
   "execution_count": 32,
   "metadata": {
    "ExecuteTime": {
     "end_time": "2020-10-06T08:24:58.336557Z",
     "start_time": "2020-10-06T08:24:58.316828Z"
    }
   },
   "outputs": [
    {
     "output_type": "execute_result",
     "data": {
      "text/plain": "array([[5, 6],\n       [8, 9]])"
     },
     "metadata": {},
     "execution_count": 32
    }
   ],
   "source": [
    "A[1:3,1:]"
   ]
  },
  {
   "cell_type": "code",
   "execution_count": 33,
   "metadata": {
    "ExecuteTime": {
     "end_time": "2020-10-06T08:24:58.353881Z",
     "start_time": "2020-10-06T08:24:58.339745Z"
    }
   },
   "outputs": [
    {
     "output_type": "execute_result",
     "data": {
      "text/plain": "array([[4, 5],\n       [7, 8],\n       [8, 7]])"
     },
     "metadata": {},
     "execution_count": 33
    }
   ],
   "source": [
    "A[1:,0:2]"
   ]
  },
  {
   "cell_type": "markdown",
   "metadata": {
    "ExecuteTime": {
     "end_time": "2020-10-06T08:24:30.561851Z",
     "start_time": "2020-10-06T08:23:57.385Z"
    }
   },
   "source": [
    "También es fácil obtener los valores que cumplen un criterio"
   ]
  },
  {
   "cell_type": "code",
   "execution_count": 34,
   "metadata": {
    "ExecuteTime": {
     "end_time": "2020-10-06T08:24:58.369197Z",
     "start_time": "2020-10-06T08:24:58.358025Z"
    }
   },
   "outputs": [],
   "source": [
    "V = np.array([1, 2, 3, 4, 5, 6])"
   ]
  },
  {
   "cell_type": "code",
   "execution_count": 35,
   "metadata": {
    "ExecuteTime": {
     "end_time": "2020-10-06T08:24:58.386286Z",
     "start_time": "2020-10-06T08:24:58.372949Z"
    }
   },
   "outputs": [
    {
     "output_type": "execute_result",
     "data": {
      "text/plain": "array([False, False, False,  True,  True,  True])"
     },
     "metadata": {},
     "execution_count": 35
    }
   ],
   "source": [
    "V > 3"
   ]
  },
  {
   "cell_type": "code",
   "execution_count": 36,
   "metadata": {
    "ExecuteTime": {
     "end_time": "2020-10-06T08:24:58.404377Z",
     "start_time": "2020-10-06T08:24:58.389434Z"
    }
   },
   "outputs": [
    {
     "output_type": "execute_result",
     "data": {
      "text/plain": "array([4, 5, 6])"
     },
     "metadata": {},
     "execution_count": 36
    }
   ],
   "source": [
    "V[V > 3]"
   ]
  },
  {
   "cell_type": "code",
   "execution_count": 37,
   "metadata": {
    "ExecuteTime": {
     "end_time": "2020-10-06T08:24:58.428903Z",
     "start_time": "2020-10-06T08:24:58.408071Z"
    },
    "tags": []
   },
   "outputs": [
    {
     "output_type": "stream",
     "name": "stdout",
     "text": "[False  True  True  True  True False]\n"
    },
    {
     "output_type": "execute_result",
     "data": {
      "text/plain": "array([2, 3, 4, 5])"
     },
     "metadata": {},
     "execution_count": 37
    }
   ],
   "source": [
    "Ind = (V > 1) & (V < 6)\n",
    "print(Ind)\n",
    "V[Ind]"
   ]
  },
  {
   "cell_type": "markdown",
   "metadata": {
    "ExecuteTime": {
     "end_time": "2020-10-06T08:27:34.425796Z",
     "start_time": "2020-10-06T08:25:24.093Z"
    }
   },
   "source": [
    "# Creación"
   ]
  },
  {
   "cell_type": "markdown",
   "metadata": {},
   "source": [
    "Numpy posee muchos métodos de generación aleatoria, normal, ..., muy útiles."
   ]
  },
  {
   "cell_type": "code",
   "execution_count": 38,
   "metadata": {
    "ExecuteTime": {
     "end_time": "2020-10-06T08:27:37.908041Z",
     "start_time": "2020-10-06T08:27:37.897957Z"
    }
   },
   "outputs": [
    {
     "output_type": "execute_result",
     "data": {
      "text/plain": "4"
     },
     "metadata": {},
     "execution_count": 38
    }
   ],
   "source": [
    "np.random.randint(10)"
   ]
  },
  {
   "cell_type": "code",
   "execution_count": 39,
   "metadata": {
    "ExecuteTime": {
     "end_time": "2020-10-06T08:28:00.544717Z",
     "start_time": "2020-10-06T08:28:00.532387Z"
    }
   },
   "outputs": [
    {
     "output_type": "execute_result",
     "data": {
      "text/plain": "array([0.98281893, 0.33314843, 0.54989359, 0.73928024, 0.12579487,\n       0.84254458, 0.24846603, 0.76950769, 0.06652931, 0.20479135])"
     },
     "metadata": {},
     "execution_count": 39
    }
   ],
   "source": [
    "np.random.rand(10)"
   ]
  },
  {
   "cell_type": "code",
   "execution_count": 40,
   "metadata": {
    "ExecuteTime": {
     "end_time": "2020-10-06T08:38:20.478175Z",
     "start_time": "2020-10-06T08:38:20.470521Z"
    }
   },
   "outputs": [
    {
     "output_type": "execute_result",
     "data": {
      "text/plain": "array([-5, -9,  7,  3,  4])"
     },
     "metadata": {},
     "execution_count": 40
    }
   ],
   "source": [
    "np.random.randint(-10, 10, 5)"
   ]
  },
  {
   "cell_type": "markdown",
   "metadata": {},
   "source": [
    "También hay otros métodos útiles"
   ]
  },
  {
   "cell_type": "code",
   "execution_count": 41,
   "metadata": {
    "ExecuteTime": {
     "end_time": "2020-10-06T08:38:56.222012Z",
     "start_time": "2020-10-06T08:38:56.216198Z"
    }
   },
   "outputs": [
    {
     "output_type": "execute_result",
     "data": {
      "text/plain": "array([0., 0., 0., 0., 0., 0., 0., 0., 0., 0.])"
     },
     "metadata": {},
     "execution_count": 41
    }
   ],
   "source": [
    "np.zeros(10)"
   ]
  },
  {
   "cell_type": "code",
   "execution_count": 42,
   "metadata": {
    "ExecuteTime": {
     "end_time": "2020-10-06T08:39:14.100938Z",
     "start_time": "2020-10-06T08:39:14.094532Z"
    }
   },
   "outputs": [
    {
     "output_type": "execute_result",
     "data": {
      "text/plain": "array([1., 1., 1., 1., 1., 1., 1., 1., 1., 1.])"
     },
     "metadata": {},
     "execution_count": 42
    }
   ],
   "source": [
    "np.ones(10)"
   ]
  },
  {
   "cell_type": "code",
   "execution_count": 43,
   "metadata": {
    "ExecuteTime": {
     "end_time": "2020-10-06T08:39:32.022896Z",
     "start_time": "2020-10-06T08:39:32.017350Z"
    }
   },
   "outputs": [
    {
     "output_type": "execute_result",
     "data": {
      "text/plain": "array([0, 1, 2, 3, 4, 5, 6, 7, 8, 9])"
     },
     "metadata": {},
     "execution_count": 43
    }
   ],
   "source": [
    "np.arange(10)"
   ]
  },
  {
   "cell_type": "markdown",
   "metadata": {
    "ExecuteTime": {
     "end_time": "2020-10-06T08:36:03.957048Z",
     "start_time": "2020-10-06T08:36:03.931850Z"
    }
   },
   "source": [
    "# Ejercicio Numpy"
   ]
  },
  {
   "cell_type": "markdown",
   "metadata": {},
   "source": [
    "1. Crear una función que calcule la distancia euclídea entre dos vectores."
   ]
  },
  {
   "cell_type": "code",
   "execution_count": 55,
   "metadata": {
    "ExecuteTime": {
     "end_time": "2020-10-06T08:42:08.167707Z",
     "start_time": "2020-10-06T08:42:08.162685Z"
    }
   },
   "outputs": [],
   "source": [
    "def disteuc(vector1, vector2):\n",
    "    dist = None\n",
    "    dist = np.sqrt(np.sum(np.power(vector1 - vector2, 2)))\n",
    "    return dist"
   ]
  },
  {
   "cell_type": "code",
   "execution_count": 56,
   "metadata": {
    "ExecuteTime": {
     "end_time": "2020-10-06T08:43:38.829505Z",
     "start_time": "2020-10-06T08:43:38.824141Z"
    }
   },
   "outputs": [],
   "source": [
    "def test():\n",
    "    assert 5 == disteuc(np.zeros(25), np.ones(25))\n",
    "    assert 0 == disteuc(np.arange(30), np.arange(30))\n",
    "    \n",
    "test()"
   ]
  }
 ],
 "metadata": {
  "@webio": {
   "lastCommId": null,
   "lastKernelId": null
  },
  "jupytext": {
   "formats": "ipynb,md"
  },
  "kernelspec": {
   "display_name": "Python 3",
   "language": "python",
   "name": "python3"
  },
  "language_info": {
   "codemirror_mode": {
    "name": "ipython",
    "version": 3
   },
   "file_extension": ".py",
   "mimetype": "text/x-python",
   "name": "python",
   "nbconvert_exporter": "python",
   "pygments_lexer": "ipython3",
   "version": "3.7.6-final"
  },
  "toc": {
   "base_numbering": 1,
   "nav_menu": {},
   "number_sections": true,
   "sideBar": true,
   "skip_h1_title": false,
   "title_cell": "Table of Contents",
   "title_sidebar": "Contents",
   "toc_cell": false,
   "toc_position": {},
   "toc_section_display": true,
   "toc_window_display": false
  },
  "varInspector": {
   "cols": {
    "lenName": 16,
    "lenType": 16,
    "lenVar": 40
   },
   "kernels_config": {
    "python": {
     "delete_cmd_postfix": "",
     "delete_cmd_prefix": "del ",
     "library": "var_list.py",
     "varRefreshCmd": "print(var_dic_list())"
    },
    "r": {
     "delete_cmd_postfix": ") ",
     "delete_cmd_prefix": "rm(",
     "library": "var_list.r",
     "varRefreshCmd": "cat(var_dic_list()) "
    }
   },
   "types_to_exclude": [
    "module",
    "function",
    "builtin_function_or_method",
    "instance",
    "_Feature"
   ],
   "window_display": false
  }
 },
 "nbformat": 4,
 "nbformat_minor": 4
}