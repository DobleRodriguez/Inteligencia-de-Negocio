{
 "cells": [
  {
   "cell_type": "markdown",
   "metadata": {},
   "source": [
    "# Pandas Tutorial"
   ]
  },
  {
   "cell_type": "markdown",
   "metadata": {},
   "source": [
    "<img src=\"https://upload.wikimedia.org/wikipedia/commons/thumb/e/ed/Pandas_logo.svg/1200px-Pandas_logo.svg.png\" width=\"30%\">"
   ]
  },
  {
   "cell_type": "code",
   "execution_count": 38,
   "metadata": {
    "ExecuteTime": {
     "end_time": "2020-10-06T09:11:55.677893Z",
     "start_time": "2020-10-06T09:11:55.673674Z"
    }
   },
   "outputs": [],
   "source": [
    "import pandas as pd"
   ]
  },
  {
   "cell_type": "markdown",
   "metadata": {},
   "source": [
    "## Series y DataFrames\n",
    "\n",
    "Los dos elementos principales de pandas son las `Series` y los `DataFrame`. \n",
    "\n",
    "Una `Series` es básicamente una columna y un `DataFrame` es una tabla multidimensional compuesta de una colección de `Series`.\n",
    "\n",
    "<img src=\"https://storage.googleapis.com/lds-media/images/series-and-dataframe.width-1200.png\" width=600px />\n",
    "\n"
   ]
  },
  {
   "cell_type": "markdown",
   "metadata": {},
   "source": [
    "### Creando DataFrames desde cero\n",
    "\n",
    "Se puede crear a poartir de un simple `diccionario`.\n",
    "\n",
    "En el ejemplo tenemos un puesto de frutas que vende manzanas y naranjas. Queremos una columna por cada fruta y una fila por cada compra de un cliente.\n"
   ]
  },
  {
   "cell_type": "code",
   "execution_count": 39,
   "metadata": {
    "ExecuteTime": {
     "end_time": "2020-10-06T09:11:55.719628Z",
     "start_time": "2020-10-06T09:11:55.687672Z"
    }
   },
   "outputs": [],
   "source": [
    "data = {\n",
    "    'apples': [3, 2, 0, 1], \n",
    "    'oranges': [0, 3, 7, 2]\n",
    "}"
   ]
  },
  {
   "cell_type": "code",
   "execution_count": 40,
   "metadata": {
    "ExecuteTime": {
     "end_time": "2020-10-06T09:11:55.764539Z",
     "start_time": "2020-10-06T09:11:55.722037Z"
    }
   },
   "outputs": [
    {
     "output_type": "execute_result",
     "data": {
      "text/plain": "   apples  oranges\n0       3        0\n1       2        3\n2       0        7\n3       1        2",
      "text/html": "<div>\n<style scoped>\n    .dataframe tbody tr th:only-of-type {\n        vertical-align: middle;\n    }\n\n    .dataframe tbody tr th {\n        vertical-align: top;\n    }\n\n    .dataframe thead th {\n        text-align: right;\n    }\n</style>\n<table border=\"1\" class=\"dataframe\">\n  <thead>\n    <tr style=\"text-align: right;\">\n      <th></th>\n      <th>apples</th>\n      <th>oranges</th>\n    </tr>\n  </thead>\n  <tbody>\n    <tr>\n      <th>0</th>\n      <td>3</td>\n      <td>0</td>\n    </tr>\n    <tr>\n      <th>1</th>\n      <td>2</td>\n      <td>3</td>\n    </tr>\n    <tr>\n      <th>2</th>\n      <td>0</td>\n      <td>7</td>\n    </tr>\n    <tr>\n      <th>3</th>\n      <td>1</td>\n      <td>2</td>\n    </tr>\n  </tbody>\n</table>\n</div>"
     },
     "metadata": {},
     "execution_count": 40
    }
   ],
   "source": [
    "purchases = pd.DataFrame(data)\n",
    "\n",
    "purchases"
   ]
  },
  {
   "cell_type": "markdown",
   "metadata": {},
   "source": [
    "El **Indice** de este DataFrame se creó automaticamente al iniciarlo, usando los números0-3, pero podemos asignar los que queramos.\n",
    "\n",
    "Los nombres de los clientes serán los índices "
   ]
  },
  {
   "cell_type": "code",
   "execution_count": 41,
   "metadata": {
    "ExecuteTime": {
     "end_time": "2020-10-06T09:11:55.788038Z",
     "start_time": "2020-10-06T09:11:55.767919Z"
    }
   },
   "outputs": [
    {
     "output_type": "execute_result",
     "data": {
      "text/plain": "        apples  oranges\nJune         3        0\nRobert       2        3\nLily         0        7\nDavid        1        2",
      "text/html": "<div>\n<style scoped>\n    .dataframe tbody tr th:only-of-type {\n        vertical-align: middle;\n    }\n\n    .dataframe tbody tr th {\n        vertical-align: top;\n    }\n\n    .dataframe thead th {\n        text-align: right;\n    }\n</style>\n<table border=\"1\" class=\"dataframe\">\n  <thead>\n    <tr style=\"text-align: right;\">\n      <th></th>\n      <th>apples</th>\n      <th>oranges</th>\n    </tr>\n  </thead>\n  <tbody>\n    <tr>\n      <th>June</th>\n      <td>3</td>\n      <td>0</td>\n    </tr>\n    <tr>\n      <th>Robert</th>\n      <td>2</td>\n      <td>3</td>\n    </tr>\n    <tr>\n      <th>Lily</th>\n      <td>0</td>\n      <td>7</td>\n    </tr>\n    <tr>\n      <th>David</th>\n      <td>1</td>\n      <td>2</td>\n    </tr>\n  </tbody>\n</table>\n</div>"
     },
     "metadata": {},
     "execution_count": 41
    }
   ],
   "source": [
    "purchases = pd.DataFrame(data, index=['June', 'Robert', 'Lily', 'David'])\n",
    "\n",
    "purchases"
   ]
  },
  {
   "cell_type": "markdown",
   "metadata": {},
   "source": [
    "Ahora podemos buscar el pedido de un cliente usando su nombre:"
   ]
  },
  {
   "cell_type": "code",
   "execution_count": 42,
   "metadata": {
    "ExecuteTime": {
     "end_time": "2020-10-06T09:11:55.808924Z",
     "start_time": "2020-10-06T09:11:55.790391Z"
    }
   },
   "outputs": [
    {
     "output_type": "execute_result",
     "data": {
      "text/plain": "apples     3\noranges    0\nName: June, dtype: int64"
     },
     "metadata": {},
     "execution_count": 42
    }
   ],
   "source": [
    "purchases.loc['June']"
   ]
  },
  {
   "cell_type": "markdown",
   "metadata": {},
   "source": [
    "También podemos acceder por columnas"
   ]
  },
  {
   "cell_type": "code",
   "execution_count": 43,
   "metadata": {
    "ExecuteTime": {
     "end_time": "2020-10-06T09:11:55.831381Z",
     "start_time": "2020-10-06T09:11:55.811224Z"
    }
   },
   "outputs": [
    {
     "output_type": "execute_result",
     "data": {
      "text/plain": "June      0\nRobert    3\nLily      7\nDavid     2\nName: oranges, dtype: int64"
     },
     "metadata": {},
     "execution_count": 43
    }
   ],
   "source": [
    "purchases['oranges']"
   ]
  },
  {
   "cell_type": "markdown",
   "metadata": {},
   "source": [
    "### Leyendo datos desde un CSV\n"
   ]
  },
  {
   "cell_type": "code",
   "execution_count": 44,
   "metadata": {
    "ExecuteTime": {
     "end_time": "2020-10-06T09:11:55.865931Z",
     "start_time": "2020-10-06T09:11:55.834003Z"
    }
   },
   "outputs": [
    {
     "output_type": "execute_result",
     "data": {
      "text/plain": "  Unnamed: 0  apples  oranges\n0       June       3        0\n1     Robert       2        3\n2       Lily       0        7\n3      David       1        2",
      "text/html": "<div>\n<style scoped>\n    .dataframe tbody tr th:only-of-type {\n        vertical-align: middle;\n    }\n\n    .dataframe tbody tr th {\n        vertical-align: top;\n    }\n\n    .dataframe thead th {\n        text-align: right;\n    }\n</style>\n<table border=\"1\" class=\"dataframe\">\n  <thead>\n    <tr style=\"text-align: right;\">\n      <th></th>\n      <th>Unnamed: 0</th>\n      <th>apples</th>\n      <th>oranges</th>\n    </tr>\n  </thead>\n  <tbody>\n    <tr>\n      <th>0</th>\n      <td>June</td>\n      <td>3</td>\n      <td>0</td>\n    </tr>\n    <tr>\n      <th>1</th>\n      <td>Robert</td>\n      <td>2</td>\n      <td>3</td>\n    </tr>\n    <tr>\n      <th>2</th>\n      <td>Lily</td>\n      <td>0</td>\n      <td>7</td>\n    </tr>\n    <tr>\n      <th>3</th>\n      <td>David</td>\n      <td>1</td>\n      <td>2</td>\n    </tr>\n  </tbody>\n</table>\n</div>"
     },
     "metadata": {},
     "execution_count": 44
    }
   ],
   "source": [
    "df = pd.read_csv('purchases.csv')\n",
    "\n",
    "df"
   ]
  },
  {
   "cell_type": "markdown",
   "metadata": {},
   "source": [
    "Al leer podemos elegir qué columna es el `index_col`:"
   ]
  },
  {
   "cell_type": "code",
   "execution_count": 45,
   "metadata": {
    "ExecuteTime": {
     "end_time": "2020-10-06T09:11:55.892693Z",
     "start_time": "2020-10-06T09:11:55.868361Z"
    }
   },
   "outputs": [
    {
     "output_type": "execute_result",
     "data": {
      "text/plain": "        apples  oranges\nJune         3        0\nRobert       2        3\nLily         0        7\nDavid        1        2",
      "text/html": "<div>\n<style scoped>\n    .dataframe tbody tr th:only-of-type {\n        vertical-align: middle;\n    }\n\n    .dataframe tbody tr th {\n        vertical-align: top;\n    }\n\n    .dataframe thead th {\n        text-align: right;\n    }\n</style>\n<table border=\"1\" class=\"dataframe\">\n  <thead>\n    <tr style=\"text-align: right;\">\n      <th></th>\n      <th>apples</th>\n      <th>oranges</th>\n    </tr>\n  </thead>\n  <tbody>\n    <tr>\n      <th>June</th>\n      <td>3</td>\n      <td>0</td>\n    </tr>\n    <tr>\n      <th>Robert</th>\n      <td>2</td>\n      <td>3</td>\n    </tr>\n    <tr>\n      <th>Lily</th>\n      <td>0</td>\n      <td>7</td>\n    </tr>\n    <tr>\n      <th>David</th>\n      <td>1</td>\n      <td>2</td>\n    </tr>\n  </tbody>\n</table>\n</div>"
     },
     "metadata": {},
     "execution_count": 45
    }
   ],
   "source": [
    "df = pd.read_csv('purchases.csv', index_col=0)\n",
    "\n",
    "df"
   ]
  },
  {
   "cell_type": "markdown",
   "metadata": {},
   "source": [
    "## Operaciones principales con DataFrame\n",
    "\n",
    "Vamos a cargar la lista de películas IMDB:"
   ]
  },
  {
   "cell_type": "code",
   "execution_count": 46,
   "metadata": {
    "ExecuteTime": {
     "end_time": "2020-10-06T09:11:55.932147Z",
     "start_time": "2020-10-06T09:11:55.896871Z"
    }
   },
   "outputs": [],
   "source": [
    "movies_df = pd.read_csv(\"IMDB-Movie-Data.csv\", index_col=\"Title\")"
   ]
  },
  {
   "cell_type": "markdown",
   "metadata": {},
   "source": [
    "### Visualizando tus datos\n",
    "\n",
    "Imprimimos unas pocas filas con `.head()`:"
   ]
  },
  {
   "cell_type": "code",
   "execution_count": 47,
   "metadata": {
    "ExecuteTime": {
     "end_time": "2020-10-06T09:11:55.952091Z",
     "start_time": "2020-10-06T09:11:55.934734Z"
    }
   },
   "outputs": [
    {
     "output_type": "execute_result",
     "data": {
      "text/plain": "                         Rank                     Genre  \\\nTitle                                                     \nGuardians of the Galaxy     1   Action,Adventure,Sci-Fi   \nPrometheus                  2  Adventure,Mystery,Sci-Fi   \nSplit                       3           Horror,Thriller   \nSing                        4   Animation,Comedy,Family   \nSuicide Squad               5  Action,Adventure,Fantasy   \n\n                                                               Description  \\\nTitle                                                                        \nGuardians of the Galaxy  A group of intergalactic criminals are forced ...   \nPrometheus               Following clues to the origin of mankind, a te...   \nSplit                    Three girls are kidnapped by a man with a diag...   \nSing                     In a city of humanoid animals, a hustling thea...   \nSuicide Squad            A secret government agency recruits some of th...   \n\n                                     Director  \\\nTitle                                           \nGuardians of the Galaxy            James Gunn   \nPrometheus                       Ridley Scott   \nSplit                      M. Night Shyamalan   \nSing                     Christophe Lourdelet   \nSuicide Squad                      David Ayer   \n\n                                                                    Actors  \\\nTitle                                                                        \nGuardians of the Galaxy  Chris Pratt, Vin Diesel, Bradley Cooper, Zoe S...   \nPrometheus               Noomi Rapace, Logan Marshall-Green, Michael Fa...   \nSplit                    James McAvoy, Anya Taylor-Joy, Haley Lu Richar...   \nSing                     Matthew McConaughey,Reese Witherspoon, Seth Ma...   \nSuicide Squad            Will Smith, Jared Leto, Margot Robbie, Viola D...   \n\n                         Year  Runtime (Minutes)  Rating   Votes  \\\nTitle                                                              \nGuardians of the Galaxy  2014                121     8.1  757074   \nPrometheus               2012                124     7.0  485820   \nSplit                    2016                117     7.3  157606   \nSing                     2016                108     7.2   60545   \nSuicide Squad            2016                123     6.2  393727   \n\n                         Revenue (Millions)  Metascore  \nTitle                                                   \nGuardians of the Galaxy              333.13       76.0  \nPrometheus                           126.46       65.0  \nSplit                                138.12       62.0  \nSing                                 270.32       59.0  \nSuicide Squad                        325.02       40.0  ",
      "text/html": "<div>\n<style scoped>\n    .dataframe tbody tr th:only-of-type {\n        vertical-align: middle;\n    }\n\n    .dataframe tbody tr th {\n        vertical-align: top;\n    }\n\n    .dataframe thead th {\n        text-align: right;\n    }\n</style>\n<table border=\"1\" class=\"dataframe\">\n  <thead>\n    <tr style=\"text-align: right;\">\n      <th></th>\n      <th>Rank</th>\n      <th>Genre</th>\n      <th>Description</th>\n      <th>Director</th>\n      <th>Actors</th>\n      <th>Year</th>\n      <th>Runtime (Minutes)</th>\n      <th>Rating</th>\n      <th>Votes</th>\n      <th>Revenue (Millions)</th>\n      <th>Metascore</th>\n    </tr>\n    <tr>\n      <th>Title</th>\n      <th></th>\n      <th></th>\n      <th></th>\n      <th></th>\n      <th></th>\n      <th></th>\n      <th></th>\n      <th></th>\n      <th></th>\n      <th></th>\n      <th></th>\n    </tr>\n  </thead>\n  <tbody>\n    <tr>\n      <th>Guardians of the Galaxy</th>\n      <td>1</td>\n      <td>Action,Adventure,Sci-Fi</td>\n      <td>A group of intergalactic criminals are forced ...</td>\n      <td>James Gunn</td>\n      <td>Chris Pratt, Vin Diesel, Bradley Cooper, Zoe S...</td>\n      <td>2014</td>\n      <td>121</td>\n      <td>8.1</td>\n      <td>757074</td>\n      <td>333.13</td>\n      <td>76.0</td>\n    </tr>\n    <tr>\n      <th>Prometheus</th>\n      <td>2</td>\n      <td>Adventure,Mystery,Sci-Fi</td>\n      <td>Following clues to the origin of mankind, a te...</td>\n      <td>Ridley Scott</td>\n      <td>Noomi Rapace, Logan Marshall-Green, Michael Fa...</td>\n      <td>2012</td>\n      <td>124</td>\n      <td>7.0</td>\n      <td>485820</td>\n      <td>126.46</td>\n      <td>65.0</td>\n    </tr>\n    <tr>\n      <th>Split</th>\n      <td>3</td>\n      <td>Horror,Thriller</td>\n      <td>Three girls are kidnapped by a man with a diag...</td>\n      <td>M. Night Shyamalan</td>\n      <td>James McAvoy, Anya Taylor-Joy, Haley Lu Richar...</td>\n      <td>2016</td>\n      <td>117</td>\n      <td>7.3</td>\n      <td>157606</td>\n      <td>138.12</td>\n      <td>62.0</td>\n    </tr>\n    <tr>\n      <th>Sing</th>\n      <td>4</td>\n      <td>Animation,Comedy,Family</td>\n      <td>In a city of humanoid animals, a hustling thea...</td>\n      <td>Christophe Lourdelet</td>\n      <td>Matthew McConaughey,Reese Witherspoon, Seth Ma...</td>\n      <td>2016</td>\n      <td>108</td>\n      <td>7.2</td>\n      <td>60545</td>\n      <td>270.32</td>\n      <td>59.0</td>\n    </tr>\n    <tr>\n      <th>Suicide Squad</th>\n      <td>5</td>\n      <td>Action,Adventure,Fantasy</td>\n      <td>A secret government agency recruits some of th...</td>\n      <td>David Ayer</td>\n      <td>Will Smith, Jared Leto, Margot Robbie, Viola D...</td>\n      <td>2016</td>\n      <td>123</td>\n      <td>6.2</td>\n      <td>393727</td>\n      <td>325.02</td>\n      <td>40.0</td>\n    </tr>\n  </tbody>\n</table>\n</div>"
     },
     "metadata": {},
     "execution_count": 47
    }
   ],
   "source": [
    "movies_df.head()"
   ]
  },
  {
   "cell_type": "markdown",
   "metadata": {},
   "source": [
    "`.head()` muesatra las primeras **cinco** filas por defecto, pero se puede especificar otro número `movies_df.head(10)`.\n",
    "\n",
    "Para ver las últimas **filas** usamos `.tail()`. "
   ]
  },
  {
   "cell_type": "code",
   "execution_count": 48,
   "metadata": {
    "ExecuteTime": {
     "end_time": "2020-10-06T09:11:55.987710Z",
     "start_time": "2020-10-06T09:11:55.954483Z"
    }
   },
   "outputs": [
    {
     "output_type": "execute_result",
     "data": {
      "text/plain": "              Rank                  Genre  \\\nTitle                                       \nSearch Party   999       Adventure,Comedy   \nNine Lives    1000  Comedy,Family,Fantasy   \n\n                                                    Description  \\\nTitle                                                             \nSearch Party  A pair of friends embark on a mission to reuni...   \nNine Lives    A stuffy businessman finds himself trapped ins...   \n\n                      Director  \\\nTitle                            \nSearch Party    Scot Armstrong   \nNine Lives    Barry Sonnenfeld   \n\n                                                         Actors  Year  \\\nTitle                                                                   \nSearch Party  Adam Pally, T.J. Miller, Thomas Middleditch,Sh...  2014   \nNine Lives    Kevin Spacey, Jennifer Garner, Robbie Amell,Ch...  2016   \n\n              Runtime (Minutes)  Rating  Votes  Revenue (Millions)  Metascore  \nTitle                                                                          \nSearch Party                 93     5.6   4881                 NaN       22.0  \nNine Lives                   87     5.3  12435               19.64       11.0  ",
      "text/html": "<div>\n<style scoped>\n    .dataframe tbody tr th:only-of-type {\n        vertical-align: middle;\n    }\n\n    .dataframe tbody tr th {\n        vertical-align: top;\n    }\n\n    .dataframe thead th {\n        text-align: right;\n    }\n</style>\n<table border=\"1\" class=\"dataframe\">\n  <thead>\n    <tr style=\"text-align: right;\">\n      <th></th>\n      <th>Rank</th>\n      <th>Genre</th>\n      <th>Description</th>\n      <th>Director</th>\n      <th>Actors</th>\n      <th>Year</th>\n      <th>Runtime (Minutes)</th>\n      <th>Rating</th>\n      <th>Votes</th>\n      <th>Revenue (Millions)</th>\n      <th>Metascore</th>\n    </tr>\n    <tr>\n      <th>Title</th>\n      <th></th>\n      <th></th>\n      <th></th>\n      <th></th>\n      <th></th>\n      <th></th>\n      <th></th>\n      <th></th>\n      <th></th>\n      <th></th>\n      <th></th>\n    </tr>\n  </thead>\n  <tbody>\n    <tr>\n      <th>Search Party</th>\n      <td>999</td>\n      <td>Adventure,Comedy</td>\n      <td>A pair of friends embark on a mission to reuni...</td>\n      <td>Scot Armstrong</td>\n      <td>Adam Pally, T.J. Miller, Thomas Middleditch,Sh...</td>\n      <td>2014</td>\n      <td>93</td>\n      <td>5.6</td>\n      <td>4881</td>\n      <td>NaN</td>\n      <td>22.0</td>\n    </tr>\n    <tr>\n      <th>Nine Lives</th>\n      <td>1000</td>\n      <td>Comedy,Family,Fantasy</td>\n      <td>A stuffy businessman finds himself trapped ins...</td>\n      <td>Barry Sonnenfeld</td>\n      <td>Kevin Spacey, Jennifer Garner, Robbie Amell,Ch...</td>\n      <td>2016</td>\n      <td>87</td>\n      <td>5.3</td>\n      <td>12435</td>\n      <td>19.64</td>\n      <td>11.0</td>\n    </tr>\n  </tbody>\n</table>\n</div>"
     },
     "metadata": {},
     "execution_count": 48
    }
   ],
   "source": [
    "movies_df.tail(2)"
   ]
  },
  {
   "cell_type": "markdown",
   "metadata": {},
   "source": [
    "### Obteniendo información de tus datos\n",
    "\n",
    "`.info()` debería ser uno de tus primeros métodos después de cargar tus datos"
   ]
  },
  {
   "cell_type": "code",
   "execution_count": 49,
   "metadata": {
    "ExecuteTime": {
     "end_time": "2020-10-06T09:11:56.027297Z",
     "start_time": "2020-10-06T09:11:55.993192Z"
    },
    "tags": []
   },
   "outputs": [
    {
     "output_type": "stream",
     "name": "stdout",
     "text": "&lt;class &#39;pandas.core.frame.DataFrame&#39;&gt;\nIndex: 1000 entries, Guardians of the Galaxy to Nine Lives\nData columns (total 11 columns):\n #   Column              Non-Null Count  Dtype  \n---  ------              --------------  -----  \n 0   Rank                1000 non-null   int64  \n 1   Genre               1000 non-null   object \n 2   Description         1000 non-null   object \n 3   Director            1000 non-null   object \n 4   Actors              1000 non-null   object \n 5   Year                1000 non-null   int64  \n 6   Runtime (Minutes)   1000 non-null   int64  \n 7   Rating              1000 non-null   float64\n 8   Votes               1000 non-null   int64  \n 9   Revenue (Millions)  872 non-null    float64\n 10  Metascore           936 non-null    float64\ndtypes: float64(3), int64(4), object(4)\nmemory usage: 93.8+ KB\n"
    }
   ],
   "source": [
    "movies_df.info()"
   ]
  },
  {
   "cell_type": "code",
   "execution_count": 50,
   "metadata": {
    "ExecuteTime": {
     "end_time": "2020-10-06T09:11:56.036039Z",
     "start_time": "2020-10-06T09:11:56.031566Z"
    }
   },
   "outputs": [
    {
     "output_type": "execute_result",
     "data": {
      "text/plain": "(1000, 11)"
     },
     "metadata": {},
     "execution_count": 50
    }
   ],
   "source": [
    "movies_df.shape"
   ]
  },
  {
   "cell_type": "markdown",
   "metadata": {},
   "source": [
    "### Cambiar los nombres de las columnas\n",
    "\n"
   ]
  },
  {
   "cell_type": "code",
   "execution_count": 51,
   "metadata": {
    "ExecuteTime": {
     "end_time": "2020-10-06T09:11:56.058991Z",
     "start_time": "2020-10-06T09:11:56.038716Z"
    }
   },
   "outputs": [
    {
     "output_type": "execute_result",
     "data": {
      "text/plain": "Index([&#39;Rank&#39;, &#39;Genre&#39;, &#39;Description&#39;, &#39;Director&#39;, &#39;Actors&#39;, &#39;Year&#39;,\n       &#39;Runtime (Minutes)&#39;, &#39;Rating&#39;, &#39;Votes&#39;, &#39;Revenue (Millions)&#39;,\n       &#39;Metascore&#39;],\n      dtype=&#39;object&#39;)"
     },
     "metadata": {},
     "execution_count": 51
    }
   ],
   "source": [
    "movies_df.columns"
   ]
  },
  {
   "cell_type": "code",
   "execution_count": 52,
   "metadata": {
    "ExecuteTime": {
     "end_time": "2020-10-06T09:11:56.078861Z",
     "start_time": "2020-10-06T09:11:56.062065Z"
    }
   },
   "outputs": [
    {
     "output_type": "execute_result",
     "data": {
      "text/plain": "Index([&#39;Rank&#39;, &#39;Genre&#39;, &#39;Description&#39;, &#39;Director&#39;, &#39;Actors&#39;, &#39;Year&#39;, &#39;Runtime&#39;,\n       &#39;Rating&#39;, &#39;Votes&#39;, &#39;Revenue_millions&#39;, &#39;Metascore&#39;],\n      dtype=&#39;object&#39;)"
     },
     "metadata": {},
     "execution_count": 52
    }
   ],
   "source": [
    "movies_df.rename(columns={\n",
    "        'Runtime (Minutes)': 'Runtime', \n",
    "        'Revenue (Millions)': 'Revenue_millions'\n",
    "    }, inplace=True)\n",
    "\n",
    "\n",
    "movies_df.columns"
   ]
  },
  {
   "cell_type": "markdown",
   "metadata": {},
   "source": [
    "Otra opción, queremos todos los nombres de las columnas en minúscula. En lugar de `.rename()`:"
   ]
  },
  {
   "cell_type": "code",
   "execution_count": 53,
   "metadata": {
    "ExecuteTime": {
     "end_time": "2020-10-06T09:11:56.108011Z",
     "start_time": "2020-10-06T09:11:56.085472Z"
    }
   },
   "outputs": [
    {
     "output_type": "execute_result",
     "data": {
      "text/plain": "Index([&#39;rank&#39;, &#39;genre&#39;, &#39;description&#39;, &#39;director&#39;, &#39;actors&#39;, &#39;year&#39;, &#39;runtime&#39;,\n       &#39;rating&#39;, &#39;votes&#39;, &#39;revenue_millions&#39;, &#39;metascore&#39;],\n      dtype=&#39;object&#39;)"
     },
     "metadata": {},
     "execution_count": 53
    }
   ],
   "source": [
    "movies_df.columns = ['rank', 'genre', 'description', 'director', 'actors', 'year', 'runtime', \n",
    "                     'rating', 'votes', 'revenue_millions', 'metascore']\n",
    "\n",
    "\n",
    "movies_df.columns"
   ]
  },
  {
   "cell_type": "markdown",
   "metadata": {},
   "source": [
    "But that's too much work. Instead of just renaming each column manually we can do a list comprehension:"
   ]
  },
  {
   "cell_type": "code",
   "execution_count": 54,
   "metadata": {
    "ExecuteTime": {
     "end_time": "2020-10-06T09:11:56.128342Z",
     "start_time": "2020-10-06T09:11:56.110557Z"
    }
   },
   "outputs": [
    {
     "output_type": "execute_result",
     "data": {
      "text/plain": "Index([&#39;rank&#39;, &#39;genre&#39;, &#39;description&#39;, &#39;director&#39;, &#39;actors&#39;, &#39;year&#39;, &#39;runtime&#39;,\n       &#39;rating&#39;, &#39;votes&#39;, &#39;revenue_millions&#39;, &#39;metascore&#39;],\n      dtype=&#39;object&#39;)"
     },
     "metadata": {},
     "execution_count": 54
    }
   ],
   "source": [
    "movies_df.columns = [col.lower() for col in movies_df]\n",
    "\n",
    "movies_df.columns"
   ]
  },
  {
   "cell_type": "markdown",
   "metadata": {},
   "source": [
    "### Comprendiendo tus variables"
   ]
  },
  {
   "cell_type": "markdown",
   "metadata": {},
   "source": [
    "Usando `describe()` obtenemos un resumen de la distribuación de todas las variables continuas:"
   ]
  },
  {
   "cell_type": "code",
   "execution_count": 55,
   "metadata": {
    "ExecuteTime": {
     "end_time": "2020-10-06T09:11:56.193066Z",
     "start_time": "2020-10-06T09:11:56.130621Z"
    }
   },
   "outputs": [
    {
     "output_type": "execute_result",
     "data": {
      "text/plain": "              rank         year      runtime       rating         votes  \\\ncount  1000.000000  1000.000000  1000.000000  1000.000000  1.000000e+03   \nmean    500.500000  2012.783000   113.172000     6.723200  1.698083e+05   \nstd     288.819436     3.205962    18.810908     0.945429  1.887626e+05   \nmin       1.000000  2006.000000    66.000000     1.900000  6.100000e+01   \n25%     250.750000  2010.000000   100.000000     6.200000  3.630900e+04   \n50%     500.500000  2014.000000   111.000000     6.800000  1.107990e+05   \n75%     750.250000  2016.000000   123.000000     7.400000  2.399098e+05   \nmax    1000.000000  2016.000000   191.000000     9.000000  1.791916e+06   \n\n       revenue_millions   metascore  \ncount        872.000000  936.000000  \nmean          82.956376   58.985043  \nstd          103.253540   17.194757  \nmin            0.000000   11.000000  \n25%           13.270000   47.000000  \n50%           47.985000   59.500000  \n75%          113.715000   72.000000  \nmax          936.630000  100.000000  ",
      "text/html": "<div>\n<style scoped>\n    .dataframe tbody tr th:only-of-type {\n        vertical-align: middle;\n    }\n\n    .dataframe tbody tr th {\n        vertical-align: top;\n    }\n\n    .dataframe thead th {\n        text-align: right;\n    }\n</style>\n<table border=\"1\" class=\"dataframe\">\n  <thead>\n    <tr style=\"text-align: right;\">\n      <th></th>\n      <th>rank</th>\n      <th>year</th>\n      <th>runtime</th>\n      <th>rating</th>\n      <th>votes</th>\n      <th>revenue_millions</th>\n      <th>metascore</th>\n    </tr>\n  </thead>\n  <tbody>\n    <tr>\n      <th>count</th>\n      <td>1000.000000</td>\n      <td>1000.000000</td>\n      <td>1000.000000</td>\n      <td>1000.000000</td>\n      <td>1.000000e+03</td>\n      <td>872.000000</td>\n      <td>936.000000</td>\n    </tr>\n    <tr>\n      <th>mean</th>\n      <td>500.500000</td>\n      <td>2012.783000</td>\n      <td>113.172000</td>\n      <td>6.723200</td>\n      <td>1.698083e+05</td>\n      <td>82.956376</td>\n      <td>58.985043</td>\n    </tr>\n    <tr>\n      <th>std</th>\n      <td>288.819436</td>\n      <td>3.205962</td>\n      <td>18.810908</td>\n      <td>0.945429</td>\n      <td>1.887626e+05</td>\n      <td>103.253540</td>\n      <td>17.194757</td>\n    </tr>\n    <tr>\n      <th>min</th>\n      <td>1.000000</td>\n      <td>2006.000000</td>\n      <td>66.000000</td>\n      <td>1.900000</td>\n      <td>6.100000e+01</td>\n      <td>0.000000</td>\n      <td>11.000000</td>\n    </tr>\n    <tr>\n      <th>25%</th>\n      <td>250.750000</td>\n      <td>2010.000000</td>\n      <td>100.000000</td>\n      <td>6.200000</td>\n      <td>3.630900e+04</td>\n      <td>13.270000</td>\n      <td>47.000000</td>\n    </tr>\n    <tr>\n      <th>50%</th>\n      <td>500.500000</td>\n      <td>2014.000000</td>\n      <td>111.000000</td>\n      <td>6.800000</td>\n      <td>1.107990e+05</td>\n      <td>47.985000</td>\n      <td>59.500000</td>\n    </tr>\n    <tr>\n      <th>75%</th>\n      <td>750.250000</td>\n      <td>2016.000000</td>\n      <td>123.000000</td>\n      <td>7.400000</td>\n      <td>2.399098e+05</td>\n      <td>113.715000</td>\n      <td>72.000000</td>\n    </tr>\n    <tr>\n      <th>max</th>\n      <td>1000.000000</td>\n      <td>2016.000000</td>\n      <td>191.000000</td>\n      <td>9.000000</td>\n      <td>1.791916e+06</td>\n      <td>936.630000</td>\n      <td>100.000000</td>\n    </tr>\n  </tbody>\n</table>\n</div>"
     },
     "metadata": {},
     "execution_count": 55
    }
   ],
   "source": [
    "movies_df.describe()"
   ]
  },
  {
   "cell_type": "markdown",
   "metadata": {},
   "source": [
    "\n",
    "\n",
    "`.describe()` se puede usar también con variables categóricas"
   ]
  },
  {
   "cell_type": "code",
   "execution_count": 56,
   "metadata": {
    "ExecuteTime": {
     "end_time": "2020-10-06T09:11:56.209704Z",
     "start_time": "2020-10-06T09:11:56.194932Z"
    }
   },
   "outputs": [
    {
     "output_type": "execute_result",
     "data": {
      "text/plain": "count                        1000\nunique                        207\ntop       Action,Adventure,Sci-Fi\nfreq                           50\nName: genre, dtype: object"
     },
     "metadata": {},
     "execution_count": 56
    }
   ],
   "source": [
    "movies_df['genre'].describe()"
   ]
  },
  {
   "cell_type": "code",
   "execution_count": 57,
   "metadata": {
    "ExecuteTime": {
     "end_time": "2020-10-06T09:11:56.221293Z",
     "start_time": "2020-10-06T09:11:56.211920Z"
    }
   },
   "outputs": [
    {
     "output_type": "execute_result",
     "data": {
      "text/plain": "Action,Adventure,Sci-Fi       50\nDrama                         48\nComedy,Drama,Romance          35\nComedy                        32\nDrama,Romance                 31\nAnimation,Adventure,Comedy    27\nAction,Adventure,Fantasy      27\nComedy,Drama                  27\nComedy,Romance                26\nCrime,Drama,Thriller          24\nName: genre, dtype: int64"
     },
     "metadata": {},
     "execution_count": 57
    }
   ],
   "source": [
    "movies_df['genre'].value_counts().head(10)"
   ]
  },
  {
   "cell_type": "markdown",
   "metadata": {},
   "source": [
    "#### Correlación entre variables continuas"
   ]
  },
  {
   "cell_type": "markdown",
   "metadata": {},
   "source": [
    "Usando el comando `.corr()`:"
   ]
  },
  {
   "cell_type": "code",
   "execution_count": 58,
   "metadata": {
    "ExecuteTime": {
     "end_time": "2020-10-06T09:11:56.272079Z",
     "start_time": "2020-10-06T09:11:56.225146Z"
    }
   },
   "outputs": [
    {
     "output_type": "execute_result",
     "data": {
      "text/plain": "                      rank      year   runtime    rating     votes  \\\nrank              1.000000 -0.261605 -0.221739 -0.219555 -0.283876   \nyear             -0.261605  1.000000 -0.164900 -0.211219 -0.411904   \nruntime          -0.221739 -0.164900  1.000000  0.392214  0.407062   \nrating           -0.219555 -0.211219  0.392214  1.000000  0.511537   \nvotes            -0.283876 -0.411904  0.407062  0.511537  1.000000   \nrevenue_millions -0.271592 -0.126790  0.267953  0.217654  0.639661   \nmetascore        -0.191869 -0.079305  0.211978  0.631897  0.325684   \n\n                  revenue_millions  metascore  \nrank                     -0.271592  -0.191869  \nyear                     -0.126790  -0.079305  \nruntime                   0.267953   0.211978  \nrating                    0.217654   0.631897  \nvotes                     0.639661   0.325684  \nrevenue_millions          1.000000   0.142397  \nmetascore                 0.142397   1.000000  ",
      "text/html": "<div>\n<style scoped>\n    .dataframe tbody tr th:only-of-type {\n        vertical-align: middle;\n    }\n\n    .dataframe tbody tr th {\n        vertical-align: top;\n    }\n\n    .dataframe thead th {\n        text-align: right;\n    }\n</style>\n<table border=\"1\" class=\"dataframe\">\n  <thead>\n    <tr style=\"text-align: right;\">\n      <th></th>\n      <th>rank</th>\n      <th>year</th>\n      <th>runtime</th>\n      <th>rating</th>\n      <th>votes</th>\n      <th>revenue_millions</th>\n      <th>metascore</th>\n    </tr>\n  </thead>\n  <tbody>\n    <tr>\n      <th>rank</th>\n      <td>1.000000</td>\n      <td>-0.261605</td>\n      <td>-0.221739</td>\n      <td>-0.219555</td>\n      <td>-0.283876</td>\n      <td>-0.271592</td>\n      <td>-0.191869</td>\n    </tr>\n    <tr>\n      <th>year</th>\n      <td>-0.261605</td>\n      <td>1.000000</td>\n      <td>-0.164900</td>\n      <td>-0.211219</td>\n      <td>-0.411904</td>\n      <td>-0.126790</td>\n      <td>-0.079305</td>\n    </tr>\n    <tr>\n      <th>runtime</th>\n      <td>-0.221739</td>\n      <td>-0.164900</td>\n      <td>1.000000</td>\n      <td>0.392214</td>\n      <td>0.407062</td>\n      <td>0.267953</td>\n      <td>0.211978</td>\n    </tr>\n    <tr>\n      <th>rating</th>\n      <td>-0.219555</td>\n      <td>-0.211219</td>\n      <td>0.392214</td>\n      <td>1.000000</td>\n      <td>0.511537</td>\n      <td>0.217654</td>\n      <td>0.631897</td>\n    </tr>\n    <tr>\n      <th>votes</th>\n      <td>-0.283876</td>\n      <td>-0.411904</td>\n      <td>0.407062</td>\n      <td>0.511537</td>\n      <td>1.000000</td>\n      <td>0.639661</td>\n      <td>0.325684</td>\n    </tr>\n    <tr>\n      <th>revenue_millions</th>\n      <td>-0.271592</td>\n      <td>-0.126790</td>\n      <td>0.267953</td>\n      <td>0.217654</td>\n      <td>0.639661</td>\n      <td>1.000000</td>\n      <td>0.142397</td>\n    </tr>\n    <tr>\n      <th>metascore</th>\n      <td>-0.191869</td>\n      <td>-0.079305</td>\n      <td>0.211978</td>\n      <td>0.631897</td>\n      <td>0.325684</td>\n      <td>0.142397</td>\n      <td>1.000000</td>\n    </tr>\n  </tbody>\n</table>\n</div>"
     },
     "metadata": {},
     "execution_count": 58
    }
   ],
   "source": [
    "movies_df.corr()"
   ]
  },
  {
   "cell_type": "markdown",
   "metadata": {},
   "source": [
    "### DataFrame: slicing, seleccionar y extraer\n",
    "\n"
   ]
  },
  {
   "cell_type": "markdown",
   "metadata": {},
   "source": [
    "#### Por columna\n"
   ]
  },
  {
   "cell_type": "code",
   "execution_count": 59,
   "metadata": {
    "ExecuteTime": {
     "end_time": "2020-10-06T09:11:56.288198Z",
     "start_time": "2020-10-06T09:11:56.275752Z"
    }
   },
   "outputs": [
    {
     "output_type": "execute_result",
     "data": {
      "text/plain": "pandas.core.series.Series"
     },
     "metadata": {},
     "execution_count": 59
    }
   ],
   "source": [
    "genre_col = movies_df['genre']\n",
    "\n",
    "type(genre_col)"
   ]
  },
  {
   "cell_type": "code",
   "execution_count": 60,
   "metadata": {
    "ExecuteTime": {
     "end_time": "2020-10-06T09:11:56.304589Z",
     "start_time": "2020-10-06T09:11:56.291453Z"
    }
   },
   "outputs": [
    {
     "output_type": "execute_result",
     "data": {
      "text/plain": "pandas.core.frame.DataFrame"
     },
     "metadata": {},
     "execution_count": 60
    }
   ],
   "source": [
    "genre_col = movies_df[['genre']]\n",
    "\n",
    "type(genre_col)"
   ]
  },
  {
   "cell_type": "code",
   "execution_count": 61,
   "metadata": {
    "ExecuteTime": {
     "end_time": "2020-10-06T09:11:56.337344Z",
     "start_time": "2020-10-06T09:11:56.311601Z"
    }
   },
   "outputs": [
    {
     "output_type": "execute_result",
     "data": {
      "text/plain": "                                            genre  rating\nTitle                                                    \nGuardians of the Galaxy   Action,Adventure,Sci-Fi     8.1\nPrometheus               Adventure,Mystery,Sci-Fi     7.0\nSplit                             Horror,Thriller     7.3\nSing                      Animation,Comedy,Family     7.2\nSuicide Squad            Action,Adventure,Fantasy     6.2",
      "text/html": "<div>\n<style scoped>\n    .dataframe tbody tr th:only-of-type {\n        vertical-align: middle;\n    }\n\n    .dataframe tbody tr th {\n        vertical-align: top;\n    }\n\n    .dataframe thead th {\n        text-align: right;\n    }\n</style>\n<table border=\"1\" class=\"dataframe\">\n  <thead>\n    <tr style=\"text-align: right;\">\n      <th></th>\n      <th>genre</th>\n      <th>rating</th>\n    </tr>\n    <tr>\n      <th>Title</th>\n      <th></th>\n      <th></th>\n    </tr>\n  </thead>\n  <tbody>\n    <tr>\n      <th>Guardians of the Galaxy</th>\n      <td>Action,Adventure,Sci-Fi</td>\n      <td>8.1</td>\n    </tr>\n    <tr>\n      <th>Prometheus</th>\n      <td>Adventure,Mystery,Sci-Fi</td>\n      <td>7.0</td>\n    </tr>\n    <tr>\n      <th>Split</th>\n      <td>Horror,Thriller</td>\n      <td>7.3</td>\n    </tr>\n    <tr>\n      <th>Sing</th>\n      <td>Animation,Comedy,Family</td>\n      <td>7.2</td>\n    </tr>\n    <tr>\n      <th>Suicide Squad</th>\n      <td>Action,Adventure,Fantasy</td>\n      <td>6.2</td>\n    </tr>\n  </tbody>\n</table>\n</div>"
     },
     "metadata": {},
     "execution_count": 61
    }
   ],
   "source": [
    "subset = movies_df[['genre', 'rating']]\n",
    "\n",
    "subset.head()"
   ]
  },
  {
   "cell_type": "markdown",
   "metadata": {},
   "source": [
    "#### Por filas"
   ]
  },
  {
   "cell_type": "markdown",
   "metadata": {},
   "source": [
    " \n",
    "\n",
    "- `.loc` - busca por nombre\n",
    "- `.iloc`- busca por índice\n",
    "\n"
   ]
  },
  {
   "cell_type": "code",
   "execution_count": 62,
   "metadata": {
    "ExecuteTime": {
     "end_time": "2020-10-06T09:11:56.361085Z",
     "start_time": "2020-10-06T09:11:56.342205Z"
    }
   },
   "outputs": [
    {
     "output_type": "execute_result",
     "data": {
      "text/plain": "rank                                                                2\ngenre                                        Adventure,Mystery,Sci-Fi\ndescription         Following clues to the origin of mankind, a te...\ndirector                                                 Ridley Scott\nactors              Noomi Rapace, Logan Marshall-Green, Michael Fa...\nyear                                                             2012\nruntime                                                           124\nrating                                                              7\nvotes                                                          485820\nrevenue_millions                                               126.46\nmetascore                                                          65\nName: Prometheus, dtype: object"
     },
     "metadata": {},
     "execution_count": 62
    }
   ],
   "source": [
    "prom = movies_df.loc[\"Prometheus\"]\n",
    "\n",
    "prom"
   ]
  },
  {
   "cell_type": "code",
   "execution_count": 63,
   "metadata": {
    "ExecuteTime": {
     "end_time": "2020-10-06T09:11:56.387288Z",
     "start_time": "2020-10-06T09:11:56.363811Z"
    }
   },
   "outputs": [
    {
     "output_type": "execute_result",
     "data": {
      "text/plain": "rank                                                                2\ngenre                                        Adventure,Mystery,Sci-Fi\ndescription         Following clues to the origin of mankind, a te...\ndirector                                                 Ridley Scott\nactors              Noomi Rapace, Logan Marshall-Green, Michael Fa...\nyear                                                             2012\nruntime                                                           124\nrating                                                              7\nvotes                                                          485820\nrevenue_millions                                               126.46\nmetascore                                                          65\nName: Prometheus, dtype: object"
     },
     "metadata": {},
     "execution_count": 63
    }
   ],
   "source": [
    "prom = movies_df.iloc[1]\n",
    "prom"
   ]
  },
  {
   "cell_type": "code",
   "execution_count": 64,
   "metadata": {
    "ExecuteTime": {
     "end_time": "2020-10-06T09:11:56.431624Z",
     "start_time": "2020-10-06T09:11:56.395069Z"
    }
   },
   "outputs": [
    {
     "output_type": "execute_result",
     "data": {
      "text/plain": "            rank                     genre  \\\nTitle                                        \nPrometheus     2  Adventure,Mystery,Sci-Fi   \nSplit          3           Horror,Thriller   \nSing           4   Animation,Comedy,Family   \n\n                                                  description  \\\nTitle                                                           \nPrometheus  Following clues to the origin of mankind, a te...   \nSplit       Three girls are kidnapped by a man with a diag...   \nSing        In a city of humanoid animals, a hustling thea...   \n\n                        director  \\\nTitle                              \nPrometheus          Ridley Scott   \nSplit         M. Night Shyamalan   \nSing        Christophe Lourdelet   \n\n                                                       actors  year  runtime  \\\nTitle                                                                          \nPrometheus  Noomi Rapace, Logan Marshall-Green, Michael Fa...  2012      124   \nSplit       James McAvoy, Anya Taylor-Joy, Haley Lu Richar...  2016      117   \nSing        Matthew McConaughey,Reese Witherspoon, Seth Ma...  2016      108   \n\n            rating   votes  revenue_millions  metascore  \nTitle                                                    \nPrometheus     7.0  485820            126.46       65.0  \nSplit          7.3  157606            138.12       62.0  \nSing           7.2   60545            270.32       59.0  ",
      "text/html": "<div>\n<style scoped>\n    .dataframe tbody tr th:only-of-type {\n        vertical-align: middle;\n    }\n\n    .dataframe tbody tr th {\n        vertical-align: top;\n    }\n\n    .dataframe thead th {\n        text-align: right;\n    }\n</style>\n<table border=\"1\" class=\"dataframe\">\n  <thead>\n    <tr style=\"text-align: right;\">\n      <th></th>\n      <th>rank</th>\n      <th>genre</th>\n      <th>description</th>\n      <th>director</th>\n      <th>actors</th>\n      <th>year</th>\n      <th>runtime</th>\n      <th>rating</th>\n      <th>votes</th>\n      <th>revenue_millions</th>\n      <th>metascore</th>\n    </tr>\n    <tr>\n      <th>Title</th>\n      <th></th>\n      <th></th>\n      <th></th>\n      <th></th>\n      <th></th>\n      <th></th>\n      <th></th>\n      <th></th>\n      <th></th>\n      <th></th>\n      <th></th>\n    </tr>\n  </thead>\n  <tbody>\n    <tr>\n      <th>Prometheus</th>\n      <td>2</td>\n      <td>Adventure,Mystery,Sci-Fi</td>\n      <td>Following clues to the origin of mankind, a te...</td>\n      <td>Ridley Scott</td>\n      <td>Noomi Rapace, Logan Marshall-Green, Michael Fa...</td>\n      <td>2012</td>\n      <td>124</td>\n      <td>7.0</td>\n      <td>485820</td>\n      <td>126.46</td>\n      <td>65.0</td>\n    </tr>\n    <tr>\n      <th>Split</th>\n      <td>3</td>\n      <td>Horror,Thriller</td>\n      <td>Three girls are kidnapped by a man with a diag...</td>\n      <td>M. Night Shyamalan</td>\n      <td>James McAvoy, Anya Taylor-Joy, Haley Lu Richar...</td>\n      <td>2016</td>\n      <td>117</td>\n      <td>7.3</td>\n      <td>157606</td>\n      <td>138.12</td>\n      <td>62.0</td>\n    </tr>\n    <tr>\n      <th>Sing</th>\n      <td>4</td>\n      <td>Animation,Comedy,Family</td>\n      <td>In a city of humanoid animals, a hustling thea...</td>\n      <td>Christophe Lourdelet</td>\n      <td>Matthew McConaughey,Reese Witherspoon, Seth Ma...</td>\n      <td>2016</td>\n      <td>108</td>\n      <td>7.2</td>\n      <td>60545</td>\n      <td>270.32</td>\n      <td>59.0</td>\n    </tr>\n  </tbody>\n</table>\n</div>"
     },
     "metadata": {},
     "execution_count": 64
    }
   ],
   "source": [
    "movie_subset = movies_df.loc['Prometheus':'Sing']\n",
    "\n",
    "movie_subset = movies_df.iloc[1:4]\n",
    "\n",
    "movie_subset"
   ]
  },
  {
   "cell_type": "markdown",
   "metadata": {},
   "source": [
    "\n",
    "\n",
    "#### Selección condicional \n"
   ]
  },
  {
   "cell_type": "code",
   "execution_count": 65,
   "metadata": {
    "ExecuteTime": {
     "end_time": "2020-10-06T09:11:56.447408Z",
     "start_time": "2020-10-06T09:11:56.434631Z"
    }
   },
   "outputs": [
    {
     "output_type": "execute_result",
     "data": {
      "text/plain": "Title\nGuardians of the Galaxy    False\nPrometheus                  True\nSplit                      False\nSing                       False\nSuicide Squad              False\nName: director, dtype: bool"
     },
     "metadata": {},
     "execution_count": 65
    }
   ],
   "source": [
    "condition = (movies_df['director'] == \"Ridley Scott\")\n",
    "\n",
    "condition.head()"
   ]
  },
  {
   "cell_type": "code",
   "execution_count": 66,
   "metadata": {
    "ExecuteTime": {
     "end_time": "2020-10-06T09:11:56.482512Z",
     "start_time": "2020-10-06T09:11:56.450404Z"
    }
   },
   "outputs": [
    {
     "output_type": "execute_result",
     "data": {
      "text/plain": "                        rank                     genre  \\\nTitle                                                    \nPrometheus                 2  Adventure,Mystery,Sci-Fi   \nThe Martian              103    Adventure,Drama,Sci-Fi   \nRobin Hood               388    Action,Adventure,Drama   \nAmerican Gangster        471     Biography,Crime,Drama   \nExodus: Gods and Kings   517    Action,Adventure,Drama   \n\n                                                              description  \\\nTitle                                                                       \nPrometheus              Following clues to the origin of mankind, a te...   \nThe Martian             An astronaut becomes stranded on Mars after hi...   \nRobin Hood              In 12th century England, Robin and his band of...   \nAmerican Gangster       In 1970s America, a detective works to bring d...   \nExodus: Gods and Kings  The defiant leader Moses rises up against the ...   \n\n                            director  \\\nTitle                                  \nPrometheus              Ridley Scott   \nThe Martian             Ridley Scott   \nRobin Hood              Ridley Scott   \nAmerican Gangster       Ridley Scott   \nExodus: Gods and Kings  Ridley Scott   \n\n                                                                   actors  \\\nTitle                                                                       \nPrometheus              Noomi Rapace, Logan Marshall-Green, Michael Fa...   \nThe Martian             Matt Damon, Jessica Chastain, Kristen Wiig, Ka...   \nRobin Hood              Russell Crowe, Cate Blanchett, Matthew Macfady...   \nAmerican Gangster       Denzel Washington, Russell Crowe, Chiwetel Eji...   \nExodus: Gods and Kings  Christian Bale, Joel Edgerton, Ben Kingsley, S...   \n\n                        year  runtime  rating   votes  revenue_millions  \\\nTitle                                                                     \nPrometheus              2012      124     7.0  485820            126.46   \nThe Martian             2015      144     8.0  556097            228.43   \nRobin Hood              2010      140     6.7  221117            105.22   \nAmerican Gangster       2007      157     7.8  337835            130.13   \nExodus: Gods and Kings  2014      150     6.0  137299             65.01   \n\n                        metascore  \nTitle                              \nPrometheus                   65.0  \nThe Martian                  80.0  \nRobin Hood                   53.0  \nAmerican Gangster            76.0  \nExodus: Gods and Kings       52.0  ",
      "text/html": "<div>\n<style scoped>\n    .dataframe tbody tr th:only-of-type {\n        vertical-align: middle;\n    }\n\n    .dataframe tbody tr th {\n        vertical-align: top;\n    }\n\n    .dataframe thead th {\n        text-align: right;\n    }\n</style>\n<table border=\"1\" class=\"dataframe\">\n  <thead>\n    <tr style=\"text-align: right;\">\n      <th></th>\n      <th>rank</th>\n      <th>genre</th>\n      <th>description</th>\n      <th>director</th>\n      <th>actors</th>\n      <th>year</th>\n      <th>runtime</th>\n      <th>rating</th>\n      <th>votes</th>\n      <th>revenue_millions</th>\n      <th>metascore</th>\n    </tr>\n    <tr>\n      <th>Title</th>\n      <th></th>\n      <th></th>\n      <th></th>\n      <th></th>\n      <th></th>\n      <th></th>\n      <th></th>\n      <th></th>\n      <th></th>\n      <th></th>\n      <th></th>\n    </tr>\n  </thead>\n  <tbody>\n    <tr>\n      <th>Prometheus</th>\n      <td>2</td>\n      <td>Adventure,Mystery,Sci-Fi</td>\n      <td>Following clues to the origin of mankind, a te...</td>\n      <td>Ridley Scott</td>\n      <td>Noomi Rapace, Logan Marshall-Green, Michael Fa...</td>\n      <td>2012</td>\n      <td>124</td>\n      <td>7.0</td>\n      <td>485820</td>\n      <td>126.46</td>\n      <td>65.0</td>\n    </tr>\n    <tr>\n      <th>The Martian</th>\n      <td>103</td>\n      <td>Adventure,Drama,Sci-Fi</td>\n      <td>An astronaut becomes stranded on Mars after hi...</td>\n      <td>Ridley Scott</td>\n      <td>Matt Damon, Jessica Chastain, Kristen Wiig, Ka...</td>\n      <td>2015</td>\n      <td>144</td>\n      <td>8.0</td>\n      <td>556097</td>\n      <td>228.43</td>\n      <td>80.0</td>\n    </tr>\n    <tr>\n      <th>Robin Hood</th>\n      <td>388</td>\n      <td>Action,Adventure,Drama</td>\n      <td>In 12th century England, Robin and his band of...</td>\n      <td>Ridley Scott</td>\n      <td>Russell Crowe, Cate Blanchett, Matthew Macfady...</td>\n      <td>2010</td>\n      <td>140</td>\n      <td>6.7</td>\n      <td>221117</td>\n      <td>105.22</td>\n      <td>53.0</td>\n    </tr>\n    <tr>\n      <th>American Gangster</th>\n      <td>471</td>\n      <td>Biography,Crime,Drama</td>\n      <td>In 1970s America, a detective works to bring d...</td>\n      <td>Ridley Scott</td>\n      <td>Denzel Washington, Russell Crowe, Chiwetel Eji...</td>\n      <td>2007</td>\n      <td>157</td>\n      <td>7.8</td>\n      <td>337835</td>\n      <td>130.13</td>\n      <td>76.0</td>\n    </tr>\n    <tr>\n      <th>Exodus: Gods and Kings</th>\n      <td>517</td>\n      <td>Action,Adventure,Drama</td>\n      <td>The defiant leader Moses rises up against the ...</td>\n      <td>Ridley Scott</td>\n      <td>Christian Bale, Joel Edgerton, Ben Kingsley, S...</td>\n      <td>2014</td>\n      <td>150</td>\n      <td>6.0</td>\n      <td>137299</td>\n      <td>65.01</td>\n      <td>52.0</td>\n    </tr>\n  </tbody>\n</table>\n</div>"
     },
     "metadata": {},
     "execution_count": 66
    }
   ],
   "source": [
    "movies_df[movies_df['director'] == \"Ridley Scott\"].head()"
   ]
  },
  {
   "cell_type": "code",
   "execution_count": 67,
   "metadata": {
    "ExecuteTime": {
     "end_time": "2020-10-06T09:12:28.351653Z",
     "start_time": "2020-10-06T09:12:28.326078Z"
    }
   },
   "outputs": [
    {
     "output_type": "execute_result",
     "data": {
      "text/plain": "                 rank                    genre  \\\nTitle                                            \nInterstellar       37   Adventure,Drama,Sci-Fi   \nThe Dark Knight    55       Action,Crime,Drama   \nInception          81  Action,Adventure,Sci-Fi   \n\n                                                       description  \\\nTitle                                                                \nInterstellar     A team of explorers travel through a wormhole ...   \nThe Dark Knight  When the menace known as the Joker wreaks havo...   \nInception        A thief, who steals corporate secrets through ...   \n\n                          director  \\\nTitle                                \nInterstellar     Christopher Nolan   \nThe Dark Knight  Christopher Nolan   \nInception        Christopher Nolan   \n\n                                                            actors  year  \\\nTitle                                                                      \nInterstellar     Matthew McConaughey, Anne Hathaway, Jessica Ch...  2014   \nThe Dark Knight  Christian Bale, Heath Ledger, Aaron Eckhart,Mi...  2008   \nInception        Leonardo DiCaprio, Joseph Gordon-Levitt, Ellen...  2010   \n\n                 runtime  rating    votes  revenue_millions  metascore  \nTitle                                                                   \nInterstellar         169     8.6  1047747            187.99       74.0  \nThe Dark Knight      152     9.0  1791916            533.32       82.0  \nInception            148     8.8  1583625            292.57       74.0  ",
      "text/html": "<div>\n<style scoped>\n    .dataframe tbody tr th:only-of-type {\n        vertical-align: middle;\n    }\n\n    .dataframe tbody tr th {\n        vertical-align: top;\n    }\n\n    .dataframe thead th {\n        text-align: right;\n    }\n</style>\n<table border=\"1\" class=\"dataframe\">\n  <thead>\n    <tr style=\"text-align: right;\">\n      <th></th>\n      <th>rank</th>\n      <th>genre</th>\n      <th>description</th>\n      <th>director</th>\n      <th>actors</th>\n      <th>year</th>\n      <th>runtime</th>\n      <th>rating</th>\n      <th>votes</th>\n      <th>revenue_millions</th>\n      <th>metascore</th>\n    </tr>\n    <tr>\n      <th>Title</th>\n      <th></th>\n      <th></th>\n      <th></th>\n      <th></th>\n      <th></th>\n      <th></th>\n      <th></th>\n      <th></th>\n      <th></th>\n      <th></th>\n      <th></th>\n    </tr>\n  </thead>\n  <tbody>\n    <tr>\n      <th>Interstellar</th>\n      <td>37</td>\n      <td>Adventure,Drama,Sci-Fi</td>\n      <td>A team of explorers travel through a wormhole ...</td>\n      <td>Christopher Nolan</td>\n      <td>Matthew McConaughey, Anne Hathaway, Jessica Ch...</td>\n      <td>2014</td>\n      <td>169</td>\n      <td>8.6</td>\n      <td>1047747</td>\n      <td>187.99</td>\n      <td>74.0</td>\n    </tr>\n    <tr>\n      <th>The Dark Knight</th>\n      <td>55</td>\n      <td>Action,Crime,Drama</td>\n      <td>When the menace known as the Joker wreaks havo...</td>\n      <td>Christopher Nolan</td>\n      <td>Christian Bale, Heath Ledger, Aaron Eckhart,Mi...</td>\n      <td>2008</td>\n      <td>152</td>\n      <td>9.0</td>\n      <td>1791916</td>\n      <td>533.32</td>\n      <td>82.0</td>\n    </tr>\n    <tr>\n      <th>Inception</th>\n      <td>81</td>\n      <td>Action,Adventure,Sci-Fi</td>\n      <td>A thief, who steals corporate secrets through ...</td>\n      <td>Christopher Nolan</td>\n      <td>Leonardo DiCaprio, Joseph Gordon-Levitt, Ellen...</td>\n      <td>2010</td>\n      <td>148</td>\n      <td>8.8</td>\n      <td>1583625</td>\n      <td>292.57</td>\n      <td>74.0</td>\n    </tr>\n  </tbody>\n</table>\n</div>"
     },
     "metadata": {},
     "execution_count": 67
    }
   ],
   "source": [
    "movies_df[movies_df['rating'] >= 8.6].head(3)"
   ]
  },
  {
   "cell_type": "markdown",
   "metadata": {},
   "source": [
    "# Ejercicio"
   ]
  },
  {
   "cell_type": "markdown",
   "metadata": {},
   "source": [
    "Mostrar los directores que han dirigido una película de Sci-Fi con nota superior a un 8."
   ]
  },
  {
   "cell_type": "code",
   "execution_count": 80,
   "metadata": {},
   "outputs": [
    {
     "output_type": "execute_result",
     "data": {
      "text/plain": "Title\nGuardians of the Galaxy           James Gunn\nInterstellar               Christopher Nolan\nThe Prestige               Christopher Nolan\nMad Max: Fury Road             George Miller\nThe Avengers                     Joss Whedon\nInception                  Christopher Nolan\nName: director, dtype: object"
     },
     "metadata": {},
     "execution_count": 80
    }
   ],
   "source": [
    "movies_df.director[(movies_df.rating > 8) & (movies_df.genre.str.contains(\"Sci-Fi\"))]"
   ]
  },
  {
   "cell_type": "code",
   "execution_count": null,
   "metadata": {},
   "outputs": [],
   "source": []
  }
 ],
 "metadata": {
  "jupytext": {
   "formats": "ipynb,md"
  },
  "kernelspec": {
   "display_name": "Python 3",
   "language": "python",
   "name": "python3"
  },
  "language_info": {
   "codemirror_mode": {
    "name": "ipython",
    "version": 3
   },
   "file_extension": ".py",
   "mimetype": "text/x-python",
   "name": "python",
   "nbconvert_exporter": "python",
   "pygments_lexer": "ipython3",
   "version": "3.7.6-final"
  },
  "toc": {
   "base_numbering": 1,
   "nav_menu": {},
   "number_sections": true,
   "sideBar": true,
   "skip_h1_title": false,
   "title_cell": "Table of Contents",
   "title_sidebar": "Contents",
   "toc_cell": false,
   "toc_position": {},
   "toc_section_display": true,
   "toc_window_display": false
  },
  "varInspector": {
   "cols": {
    "lenName": 16,
    "lenType": 16,
    "lenVar": 40
   },
   "kernels_config": {
    "python": {
     "delete_cmd_postfix": "",
     "delete_cmd_prefix": "del ",
     "library": "var_list.py",
     "varRefreshCmd": "print(var_dic_list())"
    },
    "r": {
     "delete_cmd_postfix": ") ",
     "delete_cmd_prefix": "rm(",
     "library": "var_list.r",
     "varRefreshCmd": "cat(var_dic_list()) "
    }
   },
   "types_to_exclude": [
    "module",
    "function",
    "builtin_function_or_method",
    "instance",
    "_Feature"
   ],
   "window_display": false
  }
 },
 "nbformat": 4,
 "nbformat_minor": 2
}